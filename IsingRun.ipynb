{
  "cells": [
    {
      "cell_type": "markdown",
      "metadata": {
        "id": "view-in-github",
        "colab_type": "text"
      },
      "source": [
        "<a href=\"https://colab.research.google.com/github/fadimrb/thesis/blob/main/IsingRun.ipynb\" target=\"_parent\"><img src=\"https://colab.research.google.com/assets/colab-badge.svg\" alt=\"Open In Colab\"/></a>"
      ]
    },
    {
      "cell_type": "markdown",
      "metadata": {
        "id": "lxjnsCs9ot-Y"
      },
      "source": [
        "## 1) Install the necessary packages"
      ]
    },
    {
      "cell_type": "code",
      "execution_count": null,
      "metadata": {
        "colab": {
          "base_uri": "https://localhost:8080/"
        },
        "collapsed": true,
        "id": "ZXo5akM12xIL",
        "outputId": "2bb52212-945b-40f9-a1fc-3697b8b6c51e"
      },
      "outputs": [
        {
          "output_type": "stream",
          "name": "stdout",
          "text": [
            "Reading package lists... Done\n",
            "Building dependency tree... Done\n",
            "Reading state information... Done\n",
            "Suggested packages:\n",
            "  ngspice-doc\n",
            "The following NEW packages will be installed:\n",
            "  ngspice\n",
            "0 upgraded, 1 newly installed, 0 to remove and 35 not upgraded.\n",
            "Need to get 2,352 kB of archives.\n",
            "After this operation, 7,972 kB of additional disk space will be used.\n",
            "Get:1 http://archive.ubuntu.com/ubuntu jammy-updates/universe amd64 ngspice amd64 36+ds-1ubuntu0.1 [2,352 kB]\n",
            "Fetched 2,352 kB in 1s (2,547 kB/s)\n",
            "Selecting previously unselected package ngspice.\n",
            "(Reading database ... 126284 files and directories currently installed.)\n",
            "Preparing to unpack .../ngspice_36+ds-1ubuntu0.1_amd64.deb ...\n",
            "Unpacking ngspice (36+ds-1ubuntu0.1) ...\n",
            "Setting up ngspice (36+ds-1ubuntu0.1) ...\n",
            "Processing triggers for man-db (2.10.2-1) ...\n",
            "Requirement already satisfied: networkx in /usr/local/lib/python3.11/dist-packages (3.5)\n",
            "Collecting minorminer\n",
            "  Downloading minorminer-0.2.19-cp311-cp311-manylinux_2_24_x86_64.manylinux_2_28_x86_64.whl.metadata (19 kB)\n",
            "Requirement already satisfied: tqdm in /usr/local/lib/python3.11/dist-packages (4.67.1)\n",
            "Requirement already satisfied: numpy in /usr/local/lib/python3.11/dist-packages (2.0.2)\n",
            "Requirement already satisfied: pandas in /usr/local/lib/python3.11/dist-packages (2.2.2)\n",
            "Requirement already satisfied: seaborn in /usr/local/lib/python3.11/dist-packages (0.13.2)\n",
            "Requirement already satisfied: matplotlib in /usr/local/lib/python3.11/dist-packages (3.10.0)\n",
            "Collecting dwave-networkx>=0.8.13 (from minorminer)\n",
            "  Downloading dwave_networkx-0.8.18-py3-none-any.whl.metadata (2.7 kB)\n",
            "Collecting fasteners>=0.15 (from minorminer)\n",
            "  Downloading fasteners-0.19-py3-none-any.whl.metadata (4.9 kB)\n",
            "Collecting homebase>=1.0.1 (from minorminer)\n",
            "  Downloading homebase-1.0.1-py2.py3-none-any.whl.metadata (3.3 kB)\n",
            "Requirement already satisfied: scipy>=1.7.3 in /usr/local/lib/python3.11/dist-packages (from minorminer) (1.16.1)\n",
            "Requirement already satisfied: python-dateutil>=2.8.2 in /usr/local/lib/python3.11/dist-packages (from pandas) (2.9.0.post0)\n",
            "Requirement already satisfied: pytz>=2020.1 in /usr/local/lib/python3.11/dist-packages (from pandas) (2025.2)\n",
            "Requirement already satisfied: tzdata>=2022.7 in /usr/local/lib/python3.11/dist-packages (from pandas) (2025.2)\n",
            "Requirement already satisfied: contourpy>=1.0.1 in /usr/local/lib/python3.11/dist-packages (from matplotlib) (1.3.3)\n",
            "Requirement already satisfied: cycler>=0.10 in /usr/local/lib/python3.11/dist-packages (from matplotlib) (0.12.1)\n",
            "Requirement already satisfied: fonttools>=4.22.0 in /usr/local/lib/python3.11/dist-packages (from matplotlib) (4.59.0)\n",
            "Requirement already satisfied: kiwisolver>=1.3.1 in /usr/local/lib/python3.11/dist-packages (from matplotlib) (1.4.8)\n",
            "Requirement already satisfied: packaging>=20.0 in /usr/local/lib/python3.11/dist-packages (from matplotlib) (25.0)\n",
            "Requirement already satisfied: pillow>=8 in /usr/local/lib/python3.11/dist-packages (from matplotlib) (11.3.0)\n",
            "Requirement already satisfied: pyparsing>=2.3.1 in /usr/local/lib/python3.11/dist-packages (from matplotlib) (3.2.3)\n",
            "Collecting dimod>=0.10.8 (from dwave-networkx>=0.8.13->minorminer)\n",
            "  Downloading dimod-0.12.20-cp311-cp311-manylinux_2_17_x86_64.manylinux2014_x86_64.whl.metadata (4.0 kB)\n",
            "Requirement already satisfied: six>=1.5 in /usr/local/lib/python3.11/dist-packages (from python-dateutil>=2.8.2->pandas) (1.17.0)\n",
            "Downloading minorminer-0.2.19-cp311-cp311-manylinux_2_24_x86_64.manylinux_2_28_x86_64.whl (3.9 MB)\n",
            "\u001b[2K   \u001b[90m━━━━━━━━━━━━━━━━━━━━━━━━━━━━━━━━━━━━━━━━\u001b[0m \u001b[32m3.9/3.9 MB\u001b[0m \u001b[31m38.3 MB/s\u001b[0m eta \u001b[36m0:00:00\u001b[0m\n",
            "\u001b[?25hDownloading dwave_networkx-0.8.18-py3-none-any.whl (106 kB)\n",
            "\u001b[2K   \u001b[90m━━━━━━━━━━━━━━━━━━━━━━━━━━━━━━━━━━━━━━━━\u001b[0m \u001b[32m106.5/106.5 kB\u001b[0m \u001b[31m7.7 MB/s\u001b[0m eta \u001b[36m0:00:00\u001b[0m\n",
            "\u001b[?25hDownloading fasteners-0.19-py3-none-any.whl (18 kB)\n",
            "Downloading homebase-1.0.1-py2.py3-none-any.whl (11 kB)\n",
            "Downloading dimod-0.12.20-cp311-cp311-manylinux_2_17_x86_64.manylinux2014_x86_64.whl (9.1 MB)\n",
            "\u001b[2K   \u001b[90m━━━━━━━━━━━━━━━━━━━━━━━━━━━━━━━━━━━━━━━━\u001b[0m \u001b[32m9.1/9.1 MB\u001b[0m \u001b[31m104.0 MB/s\u001b[0m eta \u001b[36m0:00:00\u001b[0m\n",
            "\u001b[?25hInstalling collected packages: homebase, fasteners, dimod, dwave-networkx, minorminer\n",
            "Successfully installed dimod-0.12.20 dwave-networkx-0.8.18 fasteners-0.19 homebase-1.0.1 minorminer-0.2.19\n"
          ]
        }
      ],
      "source": [
        "!apt-get install -y ngspice\n",
        "!pip install networkx minorminer tqdm numpy pandas seaborn matplotlib\n",
        "\n",
        "from IPython.display import clear_output\n",
        "from itertools import combinations\n",
        "from tqdm import tqdm\n",
        "from collections import defaultdict\n",
        "import random\n",
        "import os\n",
        "import math\n",
        "import networkx as nx\n",
        "import matplotlib.pyplot as plt\n",
        "import minorminer\n",
        "import numpy as np\n",
        "import pandas as pd\n",
        "import seaborn as sns\n",
        "from google.colab import files"
      ]
    },
    {
      "cell_type": "markdown",
      "metadata": {
        "id": "QKllj5Dlo4Oi"
      },
      "source": [
        "# 2) Generate SPICE Netlists"
      ]
    },
    {
      "cell_type": "code",
      "execution_count": null,
      "metadata": {
        "id": "RnupEhJ03A7N"
      },
      "outputs": [],
      "source": [
        "def generate_spice_netlist(G, embedding, cap_values_femto, graph='fc'):\n",
        "    spice_code = [\n",
        "        \"* CMOS Capacitive-Coupled Ising Machine\",\n",
        "        \".model PMOS PMOS (VTO=-0.4 KP=100u)\",\n",
        "        \".model NMOS NMOS (VTO=0.4 KP=200u)\",\n",
        "        \".model SWMODEL SW(Ron=1 Roff=1G Vt=0.5 Vh=0)\\n\",\n",
        "        \"* Define the latch subcircuit\",\n",
        "        \".SUBCKT LATCH Q Qb VDD GND PARAMS: VQ_init=0 VQb_init=0\",\n",
        "        \"M1 Q  Qb VDD VDD PMOS W=360n L=45n\",\n",
        "        \"M2 Q  Qb GND GND NMOS W=180n L=45n\",\n",
        "        \"M3 Qb Q VDD VDD PMOS W=360n L=45n\",\n",
        "        \"M4 Qb Q GND GND NMOS W=180n L=45n\",\n",
        "        \".IC V(Q)={VQ_init} V(Qb)={VQb_init}\",\n",
        "        \".ENDS LATCH\\n\",\n",
        "        \"* Power supply\",\n",
        "        \"Vdd VDD 0 1.1V\\n\"\n",
        "    ]\n",
        "\n",
        "    logical_to_spice = {node: f\"Q{node}\" for node in G.nodes()}\n",
        "    switch_idx = 0\n",
        "    if graph == 'fc':\n",
        "        for node in G.nodes():\n",
        "            spice_code.append(f\"X{node} {logical_to_spice[node]} {logical_to_spice[node]}b VDD 0 LATCH PARAMS: VQ_init=0V VQb_init=0V\")\n",
        "\n",
        "        spice_code.append(\"\\n\")\n",
        "        for (u, v) in G.edges():\n",
        "            spice_code.append(f\"* Connection between latch {u} and latch {v}\")\n",
        "            spice_code.append(f\"S{switch_idx}_{switch_idx * 4} {logical_to_spice[u]} N{switch_idx * 4} FLY_CTRL{switch_idx} 0 SWMODEL\")\n",
        "            spice_code.append(f\"S{switch_idx}_{switch_idx * 4 + 1} {logical_to_spice[v]} N{switch_idx * 4 + 1} FLY_CTRL{switch_idx} 0 SWMODEL\")\n",
        "            spice_code.append(f\"S{switch_idx}_{switch_idx * 4 + 2} {logical_to_spice[u]}b N{switch_idx * 4 + 2} FLY_CTRL{switch_idx} 0 SWMODEL\")\n",
        "            spice_code.append(f\"S{switch_idx}_{switch_idx * 4 + 3} {logical_to_spice[v]}b N{switch_idx * 4 + 3} FLY_CTRL{switch_idx} 0 SWMODEL\")\n",
        "\n",
        "            spice_code.append(\"\\n\")\n",
        "\n",
        "            spice_code.append(f\"S{switch_idx}i_{switch_idx * 4} {logical_to_spice[u]}b N{switch_idx * 4} NFLY_CTRL{switch_idx} 0 SWMODEL\")\n",
        "            spice_code.append(f\"S{switch_idx}i_{switch_idx * 4 + 1} {logical_to_spice[v]} N{switch_idx * 4 + 1} NFLY_CTRL{switch_idx} 0 SWMODEL\")\n",
        "            spice_code.append(f\"S{switch_idx}i_{switch_idx * 4 + 2} {logical_to_spice[u]} N{switch_idx * 4 + 2} NFLY_CTRL{switch_idx} 0 SWMODEL\")\n",
        "            spice_code.append(f\"S{switch_idx}i_{switch_idx * 4 + 3} {logical_to_spice[v]}b N{switch_idx * 4 + 3} NFLY_CTRL{switch_idx} 0 SWMODEL\")\n",
        "\n",
        "            spice_code.append(\"\\n\")\n",
        "\n",
        "            spice_code.append(f\"C_fly_{switch_idx * 2} N{switch_idx * 4} N{switch_idx * 4 + 1} {cap_values_femto}f\")\n",
        "            spice_code.append(f\"C_fly_{switch_idx * 2 + 1} N{switch_idx * 4 + 2} N{switch_idx * 4 + 3} {cap_values_femto}f\")\n",
        "            spice_code.append(\"\\n\")\n",
        "\n",
        "            switch_idx += 1\n",
        "    elif graph == 'lattice':\n",
        "        for node, chain in embedding.items():\n",
        "            for qubit in chain:\n",
        "                spice_code.append(f\"X{qubit[0]}{qubit[1]} Q{qubit[0]}{qubit[1]} Q{qubit[0]}{qubit[1]}b VDD 0 LATCH PARAMS: VQ_init=0V VQb_init=0V\")\n",
        "\n",
        "        spice_code.append(\"\\n\")\n",
        "        for u, v in G.edges():\n",
        "            chain_u = embedding[u]\n",
        "            chain_v = embedding[v]\n",
        "            for qubit_u in chain_u:\n",
        "                for qubit_v in chain_v:\n",
        "                    if (qubit_u[0] == qubit_v[0] and abs(qubit_u[1]-qubit_v[1]) == 1) or (qubit_u[1] == qubit_v[1] and abs(qubit_u[0]-qubit_v[0]) == 1):\n",
        "                        spice_code.append(f\"* Connection between qubit {qubit_u} and qubit {qubit_v}\")\n",
        "                        spice_code.append(f\"S{switch_idx}_{switch_idx * 4} Q{qubit_u[0]}{qubit_u[1]} N{switch_idx * 4} FLY_CTRL{switch_idx} 0 SWMODEL\")\n",
        "                        spice_code.append(f\"S{switch_idx}_{switch_idx * 4 + 1} Q{qubit_v[0]}{qubit_v[1]} N{switch_idx * 4 + 1} FLY_CTRL{switch_idx} 0 SWMODEL\")\n",
        "                        spice_code.append(f\"S{switch_idx}_{switch_idx * 4 + 2} Q{qubit_u[0]}{qubit_u[1]}b N{switch_idx * 4 + 2} FLY_CTRL{switch_idx} 0 SWMODEL\")\n",
        "                        spice_code.append(f\"S{switch_idx}_{switch_idx * 4 + 3} Q{qubit_v[0]}{qubit_v[1]}b N{switch_idx * 4 + 3} FLY_CTRL{switch_idx} 0 SWMODEL\")\n",
        "\n",
        "                        spice_code.append(\"\\n\")\n",
        "\n",
        "                        spice_code.append(f\"S{switch_idx}i_{switch_idx * 4} Q{qubit_u[0]}{qubit_u[1]}b N{switch_idx * 4} NFLY_CTRL{switch_idx} 0 SWMODEL\")\n",
        "                        spice_code.append(f\"S{switch_idx}i_{switch_idx * 4 + 1} Q{qubit_v[0]}{qubit_v[1]} N{switch_idx * 4 + 1} NFLY_CTRL{switch_idx} 0 SWMODEL\")\n",
        "                        spice_code.append(f\"S{switch_idx}i_{switch_idx * 4 + 2} Q{qubit_u[0]}{qubit_u[1]} N{switch_idx * 4 + 2} NFLY_CTRL{switch_idx} 0 SWMODEL\")\n",
        "                        spice_code.append(f\"S{switch_idx}i_{switch_idx * 4 + 3} Q{qubit_v[0]}{qubit_v[1]}b N{switch_idx * 4 + 3} NFLY_CTRL{switch_idx} 0 SWMODEL\")\n",
        "\n",
        "                        spice_code.append(\"\\n\")\n",
        "\n",
        "                        spice_code.append(f\"C_fly_{switch_idx * 2} N{switch_idx * 4} N{switch_idx * 4 + 1} {cap_values_femto}f\")\n",
        "                        spice_code.append(f\"C_fly_{switch_idx * 2 + 1} N{switch_idx * 4 + 2} N{switch_idx * 4 + 3} {cap_values_femto}f\")\n",
        "                        spice_code.append(\"\\n\")\n",
        "\n",
        "                        switch_idx += 1\n",
        "    elif graph == 'latticecap2' or graph == 'latticecap5' or graph == 'latticecap10':\n",
        "        for node, chain in embedding.items():\n",
        "            for qubit in chain:\n",
        "                spice_code.append(f\"X{qubit[0]}{qubit[1]} Q{qubit[0]}{qubit[1]} Q{qubit[0]}{qubit[1]}b VDD 0 LATCH PARAMS: VQ_init=0V VQb_init=0V\")\n",
        "            for i in range(len(chain) - 1):\n",
        "                qubit1 = chain[i]\n",
        "                qubit2 = chain[i + 1]\n",
        "                if graph == 'latticecap2':\n",
        "                    direct_cap_ratio = 2\n",
        "                elif graph == 'latticecap5':\n",
        "                    direct_cap_ratio = 5\n",
        "                elif graph == 'latticecap10':\n",
        "                    direct_cap_ratio = 10\n",
        "                spice_code.append(f\"C_chain_{node}_{i} Q{qubit1[0]}{qubit1[1]} Q{qubit2[0]}{qubit2[1]} {cap_values_femto*direct_cap_ratio}f\")\n",
        "                spice_code.append(f\"C_chain_{node}_{i}_b Q{qubit1[0]}{qubit1[1]}b Q{qubit2[0]}{qubit2[1]}b {cap_values_femto*direct_cap_ratio}f\")\n",
        "        for u, v in G.edges():\n",
        "            chain_u = embedding[u]\n",
        "            chain_v = embedding[v]\n",
        "            for qubit_u in chain_u:\n",
        "                for qubit_v in chain_v:\n",
        "                    if (qubit_u[0] == qubit_v[0] and abs(qubit_u[1]-qubit_v[1]) == 1) or (qubit_u[1] == qubit_v[1] and abs(qubit_u[0]-qubit_v[0]) == 1):\n",
        "                        spice_code.append(f\"* Connection between qubit {qubit_u} and qubit {qubit_v}\")\n",
        "                        spice_code.append(f\"S{switch_idx}_{switch_idx * 4} Q{qubit_u[0]}{qubit_u[1]} N{switch_idx * 4} FLY_CTRL{switch_idx} 0 SWMODEL\")\n",
        "                        spice_code.append(f\"S{switch_idx}_{switch_idx * 4 + 1} Q{qubit_v[0]}{qubit_v[1]} N{switch_idx * 4 + 1} FLY_CTRL{switch_idx} 0 SWMODEL\")\n",
        "                        spice_code.append(f\"S{switch_idx}_{switch_idx * 4 + 2} Q{qubit_u[0]}{qubit_u[1]}b N{switch_idx * 4 + 2} FLY_CTRL{switch_idx} 0 SWMODEL\")\n",
        "                        spice_code.append(f\"S{switch_idx}_{switch_idx * 4 + 3} Q{qubit_v[0]}{qubit_v[1]}b N{switch_idx * 4 + 3} FLY_CTRL{switch_idx} 0 SWMODEL\")\n",
        "\n",
        "                        spice_code.append(\"\\n\")\n",
        "\n",
        "                        spice_code.append(f\"S{switch_idx}i_{switch_idx * 4} Q{qubit_u[0]}{qubit_u[1]}b N{switch_idx * 4} NFLY_CTRL{switch_idx} 0 SWMODEL\")\n",
        "                        spice_code.append(f\"S{switch_idx}i_{switch_idx * 4 + 1} Q{qubit_v[0]}{qubit_v[1]} N{switch_idx * 4 + 1} NFLY_CTRL{switch_idx} 0 SWMODEL\")\n",
        "                        spice_code.append(f\"S{switch_idx}i_{switch_idx * 4 + 2} Q{qubit_u[0]}{qubit_u[1]} N{switch_idx * 4 + 2} NFLY_CTRL{switch_idx} 0 SWMODEL\")\n",
        "                        spice_code.append(f\"S{switch_idx}i_{switch_idx * 4 + 3} Q{qubit_v[0]}{qubit_v[1]}b N{switch_idx * 4 + 3} NFLY_CTRL{switch_idx} 0 SWMODEL\")\n",
        "\n",
        "                        spice_code.append(\"\\n\")\n",
        "\n",
        "                        spice_code.append(f\"C_fly_{switch_idx * 2} N{switch_idx * 4} N{switch_idx * 4 + 1} {cap_values_femto}f\")\n",
        "                        spice_code.append(f\"C_fly_{switch_idx * 2 + 1} N{switch_idx * 4 + 2} N{switch_idx * 4 + 3} {cap_values_femto}f\")\n",
        "                        spice_code.append(\"\\n\")\n",
        "\n",
        "                        switch_idx += 1\n",
        "    for i in range(switch_idx):\n",
        "                spice_code.append(f\"Vfly_ctrl{i} FLY_CTRL{i} 0 DC 0\")\n",
        "                spice_code.append(f\"Vnfly_ctrl{i} NFLY_CTRL{i} 0 DC 1.1\")\n",
        "                spice_code.append(\"\\n\")\n",
        "    if cap_values_femto < 50:\n",
        "      spice_code.append(\".tran 0.2n 10n\")\n",
        "    else:\n",
        "      spice_code.append(\".tran 0.2n 30n\")\n",
        "\n",
        "    if graph == \"fc\":\n",
        "        q_values = \" \".join([f\"V({logical_to_spice[node]})\" for node in G.nodes()])\n",
        "        output_filename = \"AutomatedfcIsing.csv\"\n",
        "\n",
        "    elif graph == \"lattice\":\n",
        "        q_values = \" \".join(f\"V(Q{chain[0][0]}{chain[0][1]})\" for node, chain in sorted(embedding.items()))\n",
        "        output_filename = \"AutomatedlatticeIsing.csv\"\n",
        "\n",
        "    elif graph == \"latticecap2\":\n",
        "        q_values = \" \".join(f\"V(Q{qubit[0]}{qubit[1]})\"\n",
        "                    for node, chain in sorted(embedding.items())\n",
        "                    for qubit in chain)\n",
        "        output_filename = f\"AutomatedLatticeIsingCap2.csv\"\n",
        "\n",
        "    elif graph == \"latticecap5\":\n",
        "        q_values = \" \".join(f\"V(Q{qubit[0]}{qubit[1]})\"\n",
        "                    for node, chain in sorted(embedding.items())\n",
        "                    for qubit in chain)\n",
        "        output_filename = f\"AutomatedLatticeIsingCap5.csv\"\n",
        "\n",
        "    elif graph == \"latticecap10\":\n",
        "        q_values = \" \".join(f\"V(Q{qubit[0]}{qubit[1]})\"\n",
        "                    for node, chain in sorted(embedding.items())\n",
        "                    for qubit in chain)\n",
        "        output_filename = f\"AutomatedLatticeIsingCap10.csv\"\n",
        "\n",
        "# We need ALL the chains not just one value\n",
        "\n",
        "\n",
        "    spice_code.append(\".control\")\n",
        "    spice_code.append(\"run\")\n",
        "    spice_code.append(\"let power_consumed = -V(VDD) * I(VDD)\")\n",
        "    spice_code.append(\"let energy_vector = integ(power_consumed)\")\n",
        "    spice_code.append(f\"wrdata {output_filename} energy_vector[length(energy_vector)-1] {q_values}\")\n",
        "    spice_code.append(\".endc\")\n",
        "    spice_code.append(\".end\")\n",
        "\n",
        "    return \"\\n\".join(spice_code)"
      ]
    },
    {
      "cell_type": "markdown",
      "metadata": {
        "id": "SvSmhDMFyYeE"
      },
      "source": [
        "# **Generates planar graphs**"
      ]
    },
    {
      "cell_type": "code",
      "execution_count": null,
      "metadata": {
        "id": "ijp748R0ydVI"
      },
      "outputs": [],
      "source": [
        "def generate_graph_with_sparsity(n, target_sparsity):\n",
        "    \"\"\"\n",
        "    Generate a planar graph with approx. `n` nodes and desired edge density.\n",
        "    Starts from a square 2D grid and adds/removes edges while preserving planarity.\n",
        "    \"\"\"\n",
        "    max_edges = n * (n - 1) // 2\n",
        "    max_planar_edges = 3 * n - 6 if n >= 3 else n - 1\n",
        "    target_edges = int(target_sparsity * max_planar_edges)\n",
        "\n",
        "    base_side = int(np.floor(np.sqrt(n)))\n",
        "    G = nx.grid_2d_graph(base_side, base_side)\n",
        "    G = nx.convert_node_labels_to_integers(G)\n",
        "\n",
        "    for i in range(G.number_of_nodes(), n):\n",
        "        G.add_node(i)\n",
        "\n",
        "    # Ensure connectivity\n",
        "    if not nx.is_connected(G):\n",
        "        components = list(nx.connected_components(G))\n",
        "        while len(components) > 1:\n",
        "            u = random.choice(list(components[0]))\n",
        "            v = random.choice(list(components[1]))\n",
        "            G.add_edge(u, v)\n",
        "            if not nx.check_planarity(G)[0]:\n",
        "                G.remove_edge(u, v)\n",
        "            components = list(nx.connected_components(G))\n",
        "\n",
        "    # Adjust edge count\n",
        "    current_edges = G.number_of_edges()\n",
        "    attempt_count = 0\n",
        "    max_attempts = 1000  # Limit to prevent infinite loops\n",
        "    if current_edges < target_edges:\n",
        "        non_edges = list(nx.non_edges(G))\n",
        "        random.shuffle(non_edges)\n",
        "        for u, v in non_edges:\n",
        "            attempt_count += 1\n",
        "            if attempt_count >= max_attempts:\n",
        "                return None\n",
        "            if G.number_of_edges() >= target_edges: break\n",
        "            G.add_edge(u, v)\n",
        "            if not nx.check_planarity(G)[0]:\n",
        "                G.remove_edge(u, v)\n",
        "    elif current_edges > target_edges:\n",
        "        edges = list(G.edges())\n",
        "        random.shuffle(edges)\n",
        "        for u, v in edges:\n",
        "            attempt_count += 1\n",
        "            if attempt_count >= max_attempts:\n",
        "                return None\n",
        "            if G.number_of_edges() <= target_edges: break\n",
        "            G.remove_edge(u, v)\n",
        "            if not nx.is_connected(G): G.add_edge(u, v)\n",
        "    return G\n"
      ]
    },
    {
      "cell_type": "markdown",
      "metadata": {
        "id": "HuWPbO-zpBnD"
      },
      "source": [
        "# 3) Find the minimum lattice size"
      ]
    },
    {
      "cell_type": "code",
      "execution_count": null,
      "metadata": {
        "id": "jo2K9dvZ29k8"
      },
      "outputs": [],
      "source": [
        "def find_minimum_lattice_size(G):\n",
        "    lattice_size = 2\n",
        "    while lattice_size < 25:\n",
        "        square_lattice = nx.grid_2d_graph(lattice_size, lattice_size)\n",
        "        if len(G.edges()) == 0:\n",
        "            embedding = {node: [(np.random.randint(0, lattice_size), np.random.randint(0, lattice_size))] for node in G.nodes()}\n",
        "        else:\n",
        "            embedding = minorminer.find_embedding(G.edges(), square_lattice.edges())\n",
        "\n",
        "        if embedding:\n",
        "            return lattice_size, square_lattice, embedding\n",
        "        lattice_size += 1\n",
        "    # print(\"No embedding found for the given graph.\")\n",
        "    return None, None, None\n"
      ]
    },
    {
      "cell_type": "markdown",
      "metadata": {
        "id": "d2KbtUJApNbn"
      },
      "source": [
        "# 4) Run NGSPICE and compute Hamiltonian and Converging Time"
      ]
    },
    {
      "cell_type": "code",
      "execution_count": null,
      "metadata": {
        "id": "iftB0IaZ3EvA"
      },
      "outputs": [],
      "source": [
        "def run_ngspice_colab(netlist_path):\n",
        "    if not os.path.exists(netlist_path):\n",
        "        print(\"Path doesn't exist...\")\n",
        "        return False\n",
        "    exit_code = os.system(f\"ngspice -b {netlist_path} > /dev/null 2>&1\")\n",
        "    return (exit_code % 256) == 0\n",
        "\n",
        "def solve_ising_problem(G):\n",
        "    cut_value, partition = nx.algorithms.approximation.maxcut.one_exchange(G)\n",
        "    ising_spins = {node: -1 if node in partition[0] else +1 for node in G.nodes()}\n",
        "    return sum(ising_spins[i] * ising_spins[j] for (i, j) in G.edges())\n",
        "def compute_hamiltonian(solution, edges, cap_values_femto, graph, embedding=None):\n",
        "    try:\n",
        "        broken_chain = False\n",
        "        # Read the CSV file with alternating time and voltage columns\n",
        "        df = pd.read_csv(solution, sep='\\s+', header=None, skipinitialspace=True)\n",
        "\n",
        "        if graph in ['fc', 'lattice']:\n",
        "            # Regular case: alternating time and voltage columns\n",
        "            time_col = df.iloc[:, ::2]  # Time columns (0, 2, 4,...)\n",
        "            voltage_cols = df.iloc[:, 3::2]  # Voltage columns (1, 3, 5, ...)\n",
        "\n",
        "            threshold_mask = (voltage_cols < 0) | (voltage_cols > 1.1)\n",
        "            first_exceed_index = threshold_mask.any(axis=1).idxmax()\n",
        "            first_exceed_time = time_col.iloc[first_exceed_index, 0]\n",
        "\n",
        "            # print(f\"First threshold exceedance at time: {first_exceed_time * 1e9:.2f} ns\")\n",
        "\n",
        "            # Stable state\n",
        "            if cap_values_femto < 50:\n",
        "                mask = time_col.iloc[:, 0] > 5e-9\n",
        "            else:\n",
        "                mask = time_col.iloc[:, 0] > 25e-9\n",
        "            first_stable_index = mask.idxmax()\n",
        "            first_stable_voltages = voltage_cols.iloc[first_stable_index, :]\n",
        "\n",
        "            spins = first_stable_voltages.apply(lambda v: 1 if v > 0.55 else -1).tolist()\n",
        "\n",
        "        else:\n",
        "            # For capacitive lattice: full lattice is recorded\n",
        "            if embedding is None:\n",
        "                raise ValueError(\"Embedding must be provided for latticecap graphs\")\n",
        "\n",
        "            # Generate column labels\n",
        "            q_labels = [f\"V(Q{q[0]}{q[1]})\" for node, chain in sorted(embedding.items()) for q in chain]\n",
        "            header_pairs = []\n",
        "            for label in q_labels:\n",
        "                header_pairs.extend([\"Time\", label])\n",
        "            headers = [\"Time\", \"Energy\"] + header_pairs\n",
        "            df.columns = headers[:df.shape[1]]\n",
        "\n",
        "            # Extract voltages from Q columns\n",
        "            voltage_indices = [i for i, label in enumerate(headers) if label.startswith(\"V(Q\")]\n",
        "            voltage_cols = df.iloc[:, voltage_indices]\n",
        "\n",
        "            # Find stable time index\n",
        "            threshold_mask = (voltage_cols < 0) | (voltage_cols > 1.1)\n",
        "            first_exceed_index = threshold_mask.any(axis=1).idxmax()\n",
        "            first_exceed_time = df.iloc[first_exceed_index, 0]\n",
        "\n",
        "            if cap_values_femto < 50:\n",
        "                mask = df.iloc[:, 0] > 5e-9\n",
        "            else:\n",
        "                mask = df.iloc[:, 0] > 25e-9\n",
        "            first_stable_index = mask.idxmax()\n",
        "            stable_row = df.iloc[first_stable_index, voltage_indices]\n",
        "\n",
        "            # Extract representative spin from each chain\n",
        "            spins = []\n",
        "            penalty = 0\n",
        "            for node, chain in sorted(embedding.items()):\n",
        "                values = [stable_row[q_labels.index(f\"V(Q{q[0]}{q[1]})\")] for q in chain]\n",
        "                majority_spin = 1 if np.mean(values) > 0.55 else -1\n",
        "                chain_spins = [1 if v > 0.55 else -1 for v in values]\n",
        "                disagreements = sum(1 for s in chain_spins if s != majority_spin)\n",
        "                if graph == 'latticecap2':\n",
        "                  penalty += 2 * disagreements  # Penalize broken chains\n",
        "                elif graph == 'latticecap5':\n",
        "                  penalty += 5 * disagreements  # Penalize broken chains\n",
        "                elif graph == 'latticecap10':\n",
        "                  penalty += 10 * disagreements  # Penalize broken chains\n",
        "                spins.append(majority_spin)\n",
        "\n",
        "                # print(f\"Node {node}: Chain = {chain}, Spins = {chain_spins}, Majority = {majority_spin}, Disagreements = {disagreements}\")\n",
        "\n",
        "            broken_chain = (penalty > 0)\n",
        "\n",
        "        # Form partitions (for debug/inspection)\n",
        "        set_positive = {i for i, spin in enumerate(spins) if spin == 1}\n",
        "        set_negative = {i for i, spin in enumerate(spins) if spin == -1}\n",
        "        partition = (set_positive, set_negative)\n",
        "        print(\"Partition:\", partition)\n",
        "        # print(\"Broken Chain: \", broken_chain)\n",
        "        # Calculate Hamiltonian\n",
        "        print(spins)\n",
        "        hamiltonian_value = sum(spins[i] * spins[j] for (i, j) in edges)\n",
        "\n",
        "        if graph not in ['fc', 'lattice']:\n",
        "            hamiltonian_value -= penalty  # Add penalty for broken chains\n",
        "\n",
        "        return hamiltonian_value, first_exceed_time, broken_chain\n",
        "\n",
        "    except Exception as e:\n",
        "        print(f\"Error in compute_hamiltonian: {e}\")\n",
        "        return None, None, None\n"
      ]
    },
    {
      "cell_type": "markdown",
      "metadata": {
        "id": "leA66KBopeLA"
      },
      "source": [
        "# 5) Main Simulation Function"
      ]
    },
    {
      "cell_type": "code",
      "execution_count": null,
      "metadata": {
        "id": "3hEgdjwS3L2N"
      },
      "outputs": [],
      "source": [
        "import json\n",
        "import pickle\n",
        "def extract_energy_from_csv(csv_file):\n",
        "    try:\n",
        "        df = pd.read_csv(csv_file, sep='\\s+', header=None)\n",
        "        if df.shape[1] > 1:\n",
        "            return float(df.iloc[0, 1])\n",
        "    except Exception as e:\n",
        "        print(f\"Error reading energy from {csv_file}: {e}\")\n",
        "    return None\n",
        "\n",
        "\n",
        "def graph_to_dict(G):\n",
        "    return {\n",
        "        \"nodes\": list(G.nodes),\n",
        "        \"edges\": list(G.edges)\n",
        "    }\n",
        "\n",
        "def save_test_cases_as_txt(test_cases, base_folder=\"saved_cases\"):\n",
        "    os.makedirs(base_folder, exist_ok=True)\n",
        "\n",
        "    for num_nodes, sparsity_dict in test_cases.items():\n",
        "        for sparsity, cases in sparsity_dict.items():\n",
        "            if cases is None:\n",
        "                continue\n",
        "            filename = f\"{base_folder}/N{num_nodes}_S{sparsity:.2f}.txt\"\n",
        "            with open(filename, \"w\") as f:\n",
        "                for G, embedding in cases:\n",
        "                    graph_data = graph_to_dict(G)\n",
        "                    data_entry = {\n",
        "                        \"graph\": graph_data,\n",
        "                        \"embedding\": {str(k): v for k, v in embedding.items()}\n",
        "                    }\n",
        "                    f.write(json.dumps(data_entry) + \"\\n\")\n",
        "            print(f\"✅ Saved {len(cases)} cases to {filename}\")\n",
        "\n",
        "def generate_test_cases(node_sizes, sparsity_values, num_tests=50, max_consecutive_failures=20):\n",
        "    print(\"--- Phase 1: Pre-generating and Embedding Test Cases ---\")\n",
        "    test_cases = {}\n",
        "    valid_combinations = set()\n",
        "\n",
        "    for num_nodes in tqdm(node_sizes, desc=\"Node Size Sweep\"):\n",
        "        max_edges_planar = 3 * num_nodes - 6 if num_nodes >= 3 else num_nodes - 1\n",
        "        max_possible_edges = num_nodes * (num_nodes - 1) / 2\n",
        "        max_sparsity_ratio = max_edges_planar / max_possible_edges if max_possible_edges > 0 else 0\n",
        "\n",
        "        test_cases[num_nodes] = {}\n",
        "        skip_remaining_sparsities = False\n",
        "\n",
        "        for sparsity_idx, sparsity in enumerate(sparsity_values):\n",
        "            if skip_remaining_sparsities:\n",
        "                test_cases[num_nodes][sparsity] = None\n",
        "                continue\n",
        "\n",
        "            embeddings = []\n",
        "            consecutive_failures = 0\n",
        "            successful_tests = 0\n",
        "\n",
        "            pbar = tqdm(total=num_tests, desc=f\"N={num_nodes}, S={sparsity:.2f}\", leave=False)\n",
        "            while successful_tests < num_tests:\n",
        "                if consecutive_failures >= max_consecutive_failures:\n",
        "                    print(f\"\\nMax consecutive failures reached for N={num_nodes}, S={sparsity:.2f}. Skipping.\")\n",
        "                    skip_remaining_sparsities = True\n",
        "                    break\n",
        "\n",
        "                G = generate_graph_with_sparsity(num_nodes, sparsity * max_sparsity_ratio)\n",
        "\n",
        "                if G is not None and len(G.edges()) > 0:\n",
        "                    size, square, embedding = find_minimum_lattice_size(G)\n",
        "                    if embedding is not None:\n",
        "                        embeddings.append((G, embedding))\n",
        "                        successful_tests += 1\n",
        "                        consecutive_failures = 0\n",
        "                        pbar.update(1)\n",
        "                    else:\n",
        "                        consecutive_failures += 1\n",
        "                else:\n",
        "                    consecutive_failures += 1\n",
        "            pbar.close()\n",
        "\n",
        "            if skip_remaining_sparsities:\n",
        "                for s in sparsity_values[sparsity_idx:]:\n",
        "                    test_cases[num_nodes][s] = None\n",
        "                break\n",
        "            else:\n",
        "                test_cases[num_nodes][sparsity] = embeddings\n",
        "                valid_combinations.add((num_nodes, sparsity))\n",
        "\n",
        "    print(\"\\n--- Summary of Generated Test Cases ---\")\n",
        "    print(f\"{'Nodes':<10}{'Sparsity':<12}{'Generated Cases':<25}\")\n",
        "    print(\"-\" * 50)\n",
        "    for num_nodes in node_sizes:\n",
        "        for sparsity in sparsity_values:\n",
        "            count = len(test_cases[num_nodes].get(sparsity) or [])\n",
        "            print(f\"{num_nodes:<10}{sparsity:<12.2f}{count:<25}\")\n",
        "\n",
        "    # Save all to .txt files\n",
        "    save_test_cases_as_txt(test_cases)\n",
        "    return test_cases, valid_combinations\n",
        "\n",
        "\n",
        "def run_simulation_sweep(test_cases, valid_combinations, node_sizes, sparsity_values, capacitance_values, configs):\n",
        "    \"\"\"\n",
        "    Phase 2: Takes pre-generated test cases and runs the SPICE simulation sweep.\n",
        "    Computes both mean and standard deviation for energy, H/H_bm, and convergence time.\n",
        "    \"\"\"\n",
        "    print(\"\\n--- Phase 2: Starting SPICE Simulation Sweep ---\")\n",
        "\n",
        "    # Initialize result containers (means)\n",
        "    results = {cfg: np.full((len(node_sizes), len(sparsity_values), len(capacitance_values)), np.nan) for cfg in configs}\n",
        "    convergence_times = {cfg: np.full_like(results[cfg], np.nan) for cfg in configs}\n",
        "    energies = {cfg: np.full_like(results[cfg], np.nan) for cfg in configs}\n",
        "    h_ratios = {cfg: np.full_like(results[cfg], np.nan) for cfg in configs}\n",
        "    broken_chain_probs = {\n",
        "        cfg: np.full_like(results[cfg], np.nan)\n",
        "        for cfg in configs if 'latticecap' in cfg\n",
        "    }\n",
        "\n",
        "    # Initialize result containers (standard deviations)\n",
        "    convergence_times_std = {cfg: np.full_like(results[cfg], np.nan) for cfg in configs}\n",
        "    energies_std = {cfg: np.full_like(results[cfg], np.nan) for cfg in configs}\n",
        "    h_ratios_std = {cfg: np.full_like(results[cfg], np.nan) for cfg in configs}\n",
        "\n",
        "    # Store individual values for std calculation\n",
        "    individual_metrics = {\n",
        "        cfg: {\n",
        "            'convergence_times': [[[] for _ in sparsity_values] for _ in node_sizes],\n",
        "            'energies': [[[] for _ in sparsity_values] for _ in node_sizes],\n",
        "            'h_ratios': [[[] for _ in sparsity_values] for _ in node_sizes]\n",
        "        } for cfg in configs\n",
        "    }\n",
        "\n",
        "    for cap_idx, cap in enumerate(tqdm(capacitance_values, desc=\"Capacitance Sweep\")):\n",
        "        global cap_values_femto\n",
        "        cap_values_femto = cap\n",
        "\n",
        "        for node_idx, num_nodes in enumerate(node_sizes):\n",
        "            for sparsity_idx, sparsity in enumerate(sparsity_values):\n",
        "                if (num_nodes, sparsity) not in valid_combinations:\n",
        "                    continue\n",
        "\n",
        "                embeddings = test_cases[num_nodes][sparsity]\n",
        "                config_stats = {cfg: {\n",
        "                    'successes': 0, 'valid_tests': 0, 'time_sum': 0.0,\n",
        "                    'time_count': 0, 'energy_sum': 0.0,\n",
        "                    'h_sum': 0.0, 'h_count': 0,\n",
        "                    'broken_count': 0\n",
        "                } for cfg in configs}\n",
        "\n",
        "                for test_idx, (G, embedding) in enumerate(tqdm(embeddings, desc=f\"Simulating N={num_nodes}, S={sparsity:.2f}, C={cap}fF\", leave=False)):\n",
        "\n",
        "                    config_files = {\n",
        "                        'fc': \"AutomatedfcIsing.cir\",\n",
        "                        'lattice': \"AutomatedlatticeIsing.cir\",\n",
        "                        'latticecap2': \"AutomatedLatticeIsingCap2.cir\",\n",
        "                        'latticecap5': \"AutomatedLatticeIsingCap5.cir\",\n",
        "                        'latticecap10': \"AutomatedLatticeIsingCap10.cir\"\n",
        "                    }\n",
        "\n",
        "                    for cfg in configs:\n",
        "                        with open(config_files[cfg], \"w\") as f:\n",
        "                            f.write(generate_spice_netlist(G, embedding, cap_values_femto=cap, graph=cfg))\n",
        "\n",
        "                    H_bm = solve_ising_problem(G)\n",
        "\n",
        "                    for cfg in configs:\n",
        "                        if not run_ngspice_colab(config_files[cfg]):\n",
        "                            continue\n",
        "                        try:\n",
        "                            csv_file = config_files[cfg].replace(\".cir\", \".csv\")\n",
        "                            H, time, broken = compute_hamiltonian(\n",
        "                                csv_file, G.edges(),\n",
        "                                cap_values_femto=cap,\n",
        "                                graph=cfg,\n",
        "                                embedding=embedding if 'lattice' in cfg else None\n",
        "                            )\n",
        "\n",
        "                            energy_val = extract_energy_from_csv(csv_file)\n",
        "                            if energy_val is not None:\n",
        "                                config_stats[cfg]['energy_sum'] += energy_val\n",
        "                                individual_metrics[cfg]['energies'][node_idx][sparsity_idx].append(energy_val)\n",
        "\n",
        "                            if H is not None:\n",
        "                                config_stats[cfg]['valid_tests'] += 1\n",
        "                                if H >= H_bm:\n",
        "                                    config_stats[cfg]['successes'] += 1\n",
        "                                if time:\n",
        "                                    config_stats[cfg]['time_sum'] += float(time)\n",
        "                                    config_stats[cfg]['time_count'] += 1\n",
        "                                    individual_metrics[cfg]['convergence_times'][node_idx][sparsity_idx].append(float(time))\n",
        "                                if H_bm != 0:\n",
        "                                    h_ratio = H / H_bm\n",
        "                                    config_stats[cfg]['h_sum'] += h_ratio\n",
        "                                    config_stats[cfg]['h_count'] += 1\n",
        "                                    individual_metrics[cfg]['h_ratios'][node_idx][sparsity_idx].append(h_ratio)\n",
        "                                if 'latticecap' in cfg and broken:\n",
        "                                    config_stats[cfg]['broken_count'] += 1\n",
        "                        except Exception as e:\n",
        "                            print(f\"Error processing {cfg}: {e}\")\n",
        "\n",
        "                for cfg in configs:\n",
        "                    if config_stats[cfg]['valid_tests'] > 0:\n",
        "                        results[cfg][node_idx, sparsity_idx, cap_idx] = config_stats[cfg]['successes'] / config_stats[cfg]['valid_tests']\n",
        "                    if config_stats[cfg]['time_count'] > 0:\n",
        "                        convergence_times[cfg][node_idx, sparsity_idx, cap_idx] = config_stats[cfg]['time_sum'] / config_stats[cfg]['time_count']\n",
        "                    if config_stats[cfg]['h_count'] > 0:\n",
        "                        h_ratios[cfg][node_idx, sparsity_idx, cap_idx] = config_stats[cfg]['h_sum'] / config_stats[cfg]['h_count']\n",
        "                    if config_stats[cfg]['valid_tests'] > 0:\n",
        "                        energies[cfg][node_idx, sparsity_idx, cap_idx] = config_stats[cfg]['energy_sum'] / config_stats[cfg]['valid_tests']\n",
        "                    if cfg in broken_chain_probs and config_stats[cfg]['valid_tests'] > 0:\n",
        "                        broken_chain_probs[cfg][node_idx, sparsity_idx, cap_idx] = config_stats[cfg]['broken_count'] / config_stats[cfg]['valid_tests']\n",
        "\n",
        "                    # Compute standard deviations\n",
        "                    conv_data = individual_metrics[cfg]['convergence_times'][node_idx][sparsity_idx]\n",
        "                    h_data = individual_metrics[cfg]['h_ratios'][node_idx][sparsity_idx]\n",
        "                    e_data = individual_metrics[cfg]['energies'][node_idx][sparsity_idx]\n",
        "\n",
        "                    if len(conv_data) > 1:\n",
        "                        convergence_times_std[cfg][node_idx, sparsity_idx, cap_idx] = np.std(conv_data)\n",
        "                    if len(h_data) > 1:\n",
        "                        h_ratios_std[cfg][node_idx, sparsity_idx, cap_idx] = np.std(h_data)\n",
        "                    if len(e_data) > 1:\n",
        "                        energies_std[cfg][node_idx, sparsity_idx, cap_idx] = np.std(e_data)\n",
        "\n",
        "    overall_results = {\n",
        "        'success_rates': results,\n",
        "        'convergence_times': convergence_times,\n",
        "        'energies': energies,\n",
        "        'h_ratios': h_ratios,\n",
        "        'broken_chain_probs': broken_chain_probs,\n",
        "        'convergence_times_std': convergence_times_std,\n",
        "        'energies_std': energies_std,\n",
        "        'h_ratios_std': h_ratios_std,\n",
        "        'capacitance_values': capacitance_values,\n",
        "        'node_sizes': node_sizes,\n",
        "        'sparsity_values': sparsity_values\n",
        "    }\n",
        "\n",
        "    with open(f'sweep_results_{configs[0]}.pkl', 'wb') as f:\n",
        "        pickle.dump(overall_results, f)\n",
        "\n",
        "    return overall_results\n",
        "\n"
      ]
    },
    {
      "cell_type": "code",
      "execution_count": null,
      "metadata": {
        "id": "mpKFbVj_mjGX"
      },
      "outputs": [],
      "source": [
        "def dict_to_graph(graph_data):\n",
        "    G = nx.Graph()\n",
        "    G.add_nodes_from(graph_data[\"nodes\"])\n",
        "    G.add_edges_from(graph_data[\"edges\"])\n",
        "    return G\n",
        "\n",
        "def load_test_cases_from_txt(base_folder=\"saved_cases\"):\n",
        "    test_cases = {}\n",
        "    valid_combinations = set()\n",
        "\n",
        "    for filename in os.listdir(base_folder):\n",
        "        if filename.endswith(\".txt\"):\n",
        "            parts = filename.replace(\".txt\", \"\").split(\"_\")\n",
        "            num_nodes = int(parts[0][1:])  # \"N30\" -> 30\n",
        "            sparsity = float(parts[1][1:])  # \"S0.40\" -> 0.40\n",
        "\n",
        "            filepath = os.path.join(base_folder, filename)\n",
        "            with open(filepath, \"r\") as f:\n",
        "                lines = f.readlines()\n",
        "\n",
        "            cases = []\n",
        "            for line in lines:\n",
        "                data = json.loads(line)\n",
        "                G = dict_to_graph(data[\"graph\"])\n",
        "                embedding = {int(k): v for k, v in data[\"embedding\"].items()}\n",
        "                cases.append((G, embedding))\n",
        "\n",
        "            if num_nodes not in test_cases:\n",
        "                test_cases[num_nodes] = {}\n",
        "            test_cases[num_nodes][sparsity] = cases\n",
        "            valid_combinations.add((num_nodes, sparsity))\n",
        "\n",
        "    print(\"\\n✅ Loaded Test Cases from Files:\")\n",
        "    print(f\"{'Nodes':<10}{'Sparsity':<12}{'Cases Loaded':<20}\")\n",
        "    print(\"-\" * 45)\n",
        "    for num_nodes in sorted(test_cases.keys()):\n",
        "        for sparsity in sorted(test_cases[num_nodes].keys()):\n",
        "            count = len(test_cases[num_nodes][sparsity])\n",
        "            print(f\"{num_nodes:<10}{sparsity:<12.2f}{count:<20}\")\n",
        "\n",
        "    return test_cases, valid_combinations\n"
      ]
    },
    {
      "cell_type": "markdown",
      "metadata": {
        "id": "NsAj2ooVpmXd"
      },
      "source": [
        "# 6) Plotting Functions"
      ]
    },
    {
      "cell_type": "code",
      "execution_count": null,
      "metadata": {
        "id": "2V0mbX_C3QpA"
      },
      "outputs": [],
      "source": [
        "def plot_optimal_capacitance(results, capacitance_values, node_sizes, sparsity_values):\n",
        "    # Find the best capacitance for each (node, sparsity) pair\n",
        "    best_cap_indices = np.argmax(results, axis=2)\n",
        "    capacitance_values = np.round(capacitance_values, 2)\n",
        "    best_success_rates = np.max(results, axis=2)\n",
        "\n",
        "    # Create annotations - show capacitance value or N/A\n",
        "    annotations = np.empty_like(best_cap_indices, dtype=object)\n",
        "    for i in range(best_cap_indices.shape[0]):\n",
        "        for j in range(best_cap_indices.shape[1]):\n",
        "            if best_success_rates[i,j] > 0:\n",
        "                annotations[i,j] = f\"{capacitance_values[best_cap_indices[i,j]]}fF\\n({best_success_rates[i,j]:.2f})\"\n",
        "            else:\n",
        "                annotations[i,j] = \"N/A\"\n",
        "\n",
        "    plt.figure(figsize=(12, 8))\n",
        "    sns.heatmap(\n",
        "        best_success_rates,\n",
        "        xticklabels=[f\"{s:.1f}\" for s in sparsity_values],\n",
        "        yticklabels=node_sizes,\n",
        "        annot=annotations,\n",
        "        fmt=\"\",\n",
        "        cmap=\"YlGnBu\",\n",
        "        vmin=0,\n",
        "        vmax=1,\n",
        "        linewidths=0.5,\n",
        "        linecolor='gray'\n",
        "    )\n",
        "    plt.title(\"Optimal Capacitance Values and Success Rates\")\n",
        "    plt.xlabel(\"Graph Sparsity\")\n",
        "    plt.ylabel(\"Number of Nodes\")\n",
        "\n",
        "    # Create custom legend\n",
        "    from matplotlib.patches import Patch\n",
        "    legend_elements = [Patch(facecolor='lightgray', edgecolor='black', label='N/A: No successful cases')]\n",
        "    plt.legend(handles=legend_elements, loc='upper right')\n",
        "    plt.show()"
      ]
    },
    {
      "cell_type": "code",
      "execution_count": null,
      "metadata": {
        "id": "5himaqRhOmwk"
      },
      "outputs": [],
      "source": [
        "def plot_convergence_times(convergence_times, capacitance_values, node_sizes, sparsity_values):\n",
        "    \"\"\"Plot heatmaps of convergence times for each node size.\"\"\"\n",
        "    for i, num_nodes in enumerate(node_sizes):\n",
        "        plt.figure(figsize=(10, 6))\n",
        "\n",
        "        # Create a 2D array of convergence times for this node size\n",
        "        times_2d = np.nanmean(convergence_times[i], axis=1)  # Average across sparsity values\n",
        "\n",
        "        # Create the heatmap\n",
        "        sns.heatmap(times_2d.T,\n",
        "                    xticklabels=[f\"{s:.1f}\" for s in sparsity_values],\n",
        "                    yticklabels=[f\"{c:.3f}\" for c in capacitance_values],\n",
        "                    cmap=\"viridis\",\n",
        "                    annot=True, fmt=\".3f\",\n",
        "                    cbar_kws={'label': 'Convergence Time (s)'})\n",
        "\n",
        "        plt.title(f\"Average Convergence Times for {num_nodes} Nodes\")\n",
        "        plt.xlabel(\"Sparsity\")\n",
        "        plt.ylabel(\"Capacitance (fF)\")\n",
        "        plt.tight_layout()\n",
        "        plt.savefig(f\"convergence_times_{num_nodes}_nodes.png\")\n",
        "        plt.close()"
      ]
    },
    {
      "cell_type": "markdown",
      "metadata": {
        "id": "PB1PLolgp0G8"
      },
      "source": [
        "# 7) Test Code\n",
        "\n"
      ]
    },
    {
      "cell_type": "code",
      "execution_count": null,
      "metadata": {
        "colab": {
          "base_uri": "https://localhost:8080/",
          "height": 1000
        },
        "id": "nPYA9m7WwJFC",
        "outputId": "56a5dfc5-1dfe-4b26-de20-a37a2e2d5876"
      },
      "outputs": [
        {
          "output_type": "stream",
          "name": "stdout",
          "text": [
            "k= 5.7997\n",
            "SPICE netlist generated: AutomatedFCIsing.cir\n",
            "SPICE netlist generated: AutomatedLatticeIsing.cir\n",
            "SPICE netlist generated: AutomatedLatticeIsingCap2.cir\n",
            "SPICE netlist generated: AutomatedLatticeIsingCap5.cir\n",
            "SPICE netlist generated: AutomatedLatticeIsingCap10.cir\n",
            "Minimum lattice size: 11 x 11\n",
            "Number of physical spins used: 72\n",
            "Embedding: {0: [(1, 4)], 7: [(0, 4), (0, 5)], 1: [(1, 5)], 2: [(1, 6)], 3: [(4, 4)], 54: [(3, 4)], 10: [(4, 3)], 4: [(5, 2)], 11: [(5, 3)], 5: [(5, 0)], 12: [(4, 1), (5, 1)], 6: [(3, 0)], 13: [(3, 1)], 8: [(0, 3)], 14: [(0, 7), (0, 6)], 9: [(3, 3)], 16: [(2, 3)], 17: [(4, 2)], 18: [(6, 2), (6, 3)], 19: [(6, 1)], 20: [(2, 1)], 21: [(0, 8)], 15: [(1, 3)], 56: [(1, 2)], 25: [(6, 4), (6, 5)], 58: [(1, 1)], 27: [(2, 2)], 22: [(1, 8)], 59: [(1, 9)], 51: [(1, 7)], 29: [(2, 8)], 23: [(3, 7)], 24: [(3, 8)], 30: [(2, 7)], 32: [(5, 5), (4, 5), (4, 6)], 26: [(7, 4)], 28: [(1, 10)], 49: [(0, 10)], 35: [(2, 10)], 36: [(2, 9)], 31: [(2, 6), (3, 6)], 55: [(3, 5)], 38: [(2, 5)], 39: [(4, 9), (4, 7), (4, 8)], 33: [(6, 10)], 40: [(5, 9), (6, 9)], 34: [(7, 10)], 42: [(3, 10)], 43: [(3, 9)], 37: [(2, 4)], 46: [(5, 8)], 50: [(5, 10)], 47: [(7, 9), (8, 9)], 41: [(6, 8)], 44: [(5, 6)], 45: [(5, 7)], 53: [(8, 8)], 48: [(9, 9)], 52: [(0, 9)], 57: [(0, 2)]}\n",
            "Initial Edges: [(0, 7), (0, 1), (1, 2), (3, 54), (3, 10), (4, 11), (5, 12), (6, 13), (7, 8), (7, 14), (9, 16), (9, 10), (10, 17), (10, 11), (11, 18), (12, 13), (12, 19), (13, 20), (14, 21), (15, 56), (15, 16), (18, 25), (18, 19), (20, 58), (20, 27), (21, 22), (22, 59), (22, 51), (22, 29), (23, 24), (23, 30), (25, 32), (25, 26), (28, 49), (28, 35), (29, 36), (29, 30), (30, 31), (31, 55), (31, 38), (31, 32), (32, 39), (33, 40), (33, 34), (35, 42), (36, 43), (37, 38), (39, 40), (39, 46), (40, 50), (40, 47), (40, 41), (42, 43), (44, 45), (45, 46), (47, 53), (47, 48), (49, 52), (56, 57)]\n",
            "Error plotting results: x and y must have same first dimension, but have shapes (166,) and (163,)\n",
            "Partition: ({1, 3, 5, 7, 9, 11, 13, 15, 17, 19, 21, 23, 25, 27, 29, 31, 34, 35, 37, 40, 43, 44, 46, 48, 49, 51, 53, 57, 58, 59}, {0, 2, 4, 6, 8, 10, 12, 14, 16, 18, 20, 22, 24, 26, 28, 30, 32, 33, 36, 38, 39, 41, 42, 45, 47, 50, 52, 54, 55, 56})\n",
            "[-1, 1, -1, 1, -1, 1, -1, 1, -1, 1, -1, 1, -1, 1, -1, 1, -1, 1, -1, 1, -1, 1, -1, 1, -1, 1, -1, 1, -1, 1, -1, 1, -1, -1, 1, 1, -1, 1, -1, -1, 1, -1, -1, 1, 1, -1, 1, -1, 1, 1, -1, 1, -1, 1, -1, -1, -1, 1, 1, 1]\n",
            "Partition: ({1, 3, 6, 8, 9, 11, 12, 15, 17, 19, 21, 24, 25, 27, 29, 30, 34, 35, 38, 39, 40, 41, 43, 44, 47, 49, 51, 53, 55, 57, 58, 59}, {0, 2, 4, 5, 7, 10, 13, 14, 16, 18, 20, 22, 23, 26, 28, 31, 32, 33, 36, 37, 42, 45, 46, 48, 50, 52, 54, 56})\n",
            "[-1, 1, -1, 1, -1, -1, 1, -1, 1, 1, -1, 1, 1, -1, -1, 1, -1, 1, -1, 1, -1, 1, -1, -1, 1, 1, -1, 1, -1, 1, 1, -1, -1, -1, 1, 1, -1, -1, 1, 1, 1, 1, -1, 1, 1, -1, -1, 1, -1, 1, -1, 1, -1, 1, -1, 1, -1, 1, 1, 1]\n",
            "Partition: ({0, 2, 3, 5, 8, 9, 11, 13, 14, 15, 17, 19, 22, 24, 25, 27, 28, 30, 32, 34, 36, 38, 40, 42, 44, 46, 48, 52, 53, 55, 57, 58}, {1, 4, 6, 7, 10, 12, 16, 18, 20, 21, 23, 26, 29, 31, 33, 35, 37, 39, 41, 43, 45, 47, 49, 50, 51, 54, 56, 59})\n",
            "[1, -1, 1, 1, -1, 1, -1, -1, 1, 1, -1, 1, -1, 1, 1, 1, -1, 1, -1, 1, -1, -1, 1, -1, 1, 1, -1, 1, 1, -1, 1, -1, 1, -1, 1, -1, 1, -1, 1, -1, 1, -1, 1, -1, 1, -1, 1, -1, 1, -1, -1, -1, 1, 1, -1, 1, -1, 1, 1, -1]\n",
            "Partition: ({1, 3, 5, 7, 9, 11, 13, 15, 17, 19, 22, 24, 25, 27, 30, 32, 34, 35, 36, 38, 40, 42, 45, 48, 49, 53, 55, 57, 58}, {0, 2, 4, 6, 8, 10, 12, 14, 16, 18, 20, 21, 23, 26, 28, 29, 31, 33, 37, 39, 41, 43, 44, 46, 47, 50, 51, 52, 54, 56, 59})\n",
            "[-1, 1, -1, 1, -1, 1, -1, 1, -1, 1, -1, 1, -1, 1, -1, 1, -1, 1, -1, 1, -1, -1, 1, -1, 1, 1, -1, 1, -1, -1, 1, -1, 1, -1, 1, 1, 1, -1, 1, -1, 1, -1, 1, -1, -1, 1, -1, -1, 1, 1, -1, -1, -1, 1, -1, 1, -1, 1, 1, -1]\n",
            "Partition: ({1, 3, 5, 7, 9, 11, 13, 15, 17, 19, 21, 23, 25, 27, 29, 31, 33, 35, 37, 39, 41, 43, 45, 47, 49, 50, 51, 57, 58, 59}, {0, 2, 4, 6, 8, 10, 12, 14, 16, 18, 20, 22, 24, 26, 28, 30, 32, 34, 36, 38, 40, 42, 44, 46, 48, 52, 53, 54, 55, 56})\n",
            "[-1, 1, -1, 1, -1, 1, -1, 1, -1, 1, -1, 1, -1, 1, -1, 1, -1, 1, -1, 1, -1, 1, -1, 1, -1, 1, -1, 1, -1, 1, -1, 1, -1, 1, -1, 1, -1, 1, -1, 1, -1, 1, -1, 1, -1, 1, -1, 1, -1, 1, 1, 1, -1, -1, -1, -1, -1, 1, 1, 1]\n",
            "Hamiltonian (FC): -57\n",
            "Hamiltonian (Lattice): -37\n",
            "Hamiltonian (Lattice with Intra-Spin Cap = 2): -57\n",
            "Hamiltonian (Lattice with Intra-Spin Cap = 5): -51\n",
            "Hamiltonian (Lattice with Intra-Spin Cap = 10): -59\n",
            "Hamiltonian (Benchmark): -49\n",
            "First exceed time (FC): 2.4283926e-09\n",
            "First exceed time (Lattice): 1.73541757e-09\n",
            "First exceed time (Lattice with Intra-Spin Cap = 2): 1.63203627e-09\n",
            "First exceed time (Lattice with Intra-Spin Cap = 5): 1.80527685e-09\n",
            "First exceed time (Lattice with Intra-Spin Cap = 10): 2.20089983e-09\n",
            "❌ FC Hamiltonian does not match benchmark results.\n",
            "❌ Lattice Hamiltonian does not match benchmark results.\n",
            "❌ Lattice with Cap = 2 Hamiltonian does not match benchmark results.\n",
            "❌ Lattice with Cap = 5 Hamiltonian does not match benchmark results.\n",
            "❌ Lattice with Cap = 10 Hamiltonian does not match benchmark results.\n"
          ]
        },
        {
          "output_type": "stream",
          "name": "stderr",
          "text": [
            "/tmp/ipython-input-2892100721.py:72: FutureWarning: Series.__getitem__ treating keys as positions is deprecated. In a future version, integer keys will always be treated as labels (consistent with DataFrame behavior). To access a value by position, use `ser.iloc[pos]`\n",
            "  values = [stable_row[q_labels.index(f\"V(Q{q[0]}{q[1]})\")] for q in chain]\n",
            "/tmp/ipython-input-2892100721.py:72: FutureWarning: Series.__getitem__ treating keys as positions is deprecated. In a future version, integer keys will always be treated as labels (consistent with DataFrame behavior). To access a value by position, use `ser.iloc[pos]`\n",
            "  values = [stable_row[q_labels.index(f\"V(Q{q[0]}{q[1]})\")] for q in chain]\n",
            "/tmp/ipython-input-2892100721.py:72: FutureWarning: Series.__getitem__ treating keys as positions is deprecated. In a future version, integer keys will always be treated as labels (consistent with DataFrame behavior). To access a value by position, use `ser.iloc[pos]`\n",
            "  values = [stable_row[q_labels.index(f\"V(Q{q[0]}{q[1]})\")] for q in chain]\n"
          ]
        },
        {
          "output_type": "display_data",
          "data": {
            "text/plain": [
              "<Figure size 1000x500 with 1 Axes>"
            ],
            "image/png": "[encoded data removed]"
          },
          "metadata": {}
        },
        {
          "output_type": "display_data",
          "data": {
            "text/plain": [
              "<Figure size 1000x500 with 1 Axes>"
            ],
            "image/png": "[encoded data removed]"
          },
          "metadata": {}
        },
        {
          "output_type": "display_data",
          "data": {
            "text/plain": [
              "<Figure size 3200x2400 with 64 Axes>"
            ],
            "image/png": "[encoded data removed]"
          },
          "metadata": {}
        }
      ],
      "source": [
        "def find_unit_edges(points):\n",
        "    edges = []\n",
        "    for p1, p2 in combinations(points, 2):\n",
        "        if np.linalg.norm(np.array(p1) - np.array(p2)) == 1:\n",
        "            edges.append((p1, p2))\n",
        "    return edges\n",
        "\n",
        "def plot_node_comparisons(num_nodes):\n",
        "    \"\"\"Automatically create comparison plots for all nodes in a grid layout, including OpenJIJ results.\"\"\"\n",
        "    try:\n",
        "        # Read both CSV files\n",
        "        df_fc = pd.read_csv(\"AutomatedfcIsing.csv\", sep='\\s+', header=None, skipinitialspace=True)\n",
        "        df_lattice = pd.read_csv(\"AutomatedlatticeIsing.csv\", sep='\\s+', header=None, skipinitialspace=True)\n",
        "        df_lattice_cap2 = pd.read_csv(\"AutomatedLatticeIsingCap2.csv\", sep='\\s+', header=None, skipinitialspace=True)\n",
        "        df_lattice_cap5 = pd.read_csv(\"AutomatedLatticeIsingCap5.csv\", sep='\\s+', header=None, skipinitialspace=True)\n",
        "        df_lattice_cap10 = pd.read_csv(\"AutomatedLatticeIsingCap10.csv\", sep='\\s+', header=None, skipinitialspace=True)\n",
        "        # Get voltage data (every second column starting from index 1)\n",
        "        voltages_fc = df_fc.iloc[:, 1::2]\n",
        "        voltages_lattice = df_lattice.iloc[:, 1::2]\n",
        "        voltages_lattice_cap2 = df_lattice_cap2.iloc[:, 1::2]\n",
        "        voltages_lattice_cap5 = df_lattice_cap5.iloc[:, 1::2]\n",
        "        voltages_lattice_cap10 = df_lattice_cap10.iloc[:, 1::2]\n",
        "        # Get time data\n",
        "        time_fc = df_fc.iloc[:, 0]\n",
        "        time_lattice = df_lattice.iloc[:, 0]\n",
        "        time_lattice_cap2 = df_lattice.iloc[:, 0]\n",
        "        time_lattice_cap5 = df_lattice.iloc[:, 0]\n",
        "        time_lattice_cap10 = df_lattice.iloc[:, 0]\n",
        "        # Calculate grid dimensions (square-ish layout)\n",
        "        cols = math.ceil(math.sqrt(num_nodes))\n",
        "        rows = math.ceil(num_nodes / cols)\n",
        "\n",
        "        # Create figure\n",
        "        fig, axs = plt.subplots(rows, cols, figsize=(cols*4, rows*3))\n",
        "        fig.suptitle('Node Voltage Comparisons (FC vs Lattice)', fontsize=12, y=1)\n",
        "\n",
        "        # Flatten axes array for easy iteration\n",
        "        if num_nodes > 1:\n",
        "            axs = axs.flatten()\n",
        "        else:\n",
        "            axs = [axs]  # Make it iterable for single node case\n",
        "\n",
        "        # Plot each node comparison\n",
        "        for i in range(num_nodes):\n",
        "            ax = axs[i]\n",
        "            ax.plot(time_fc, voltages_fc.iloc[:, i+2], color=\"blue\", label='FC')\n",
        "            ax.plot(time_lattice, voltages_lattice.iloc[:, i+2], color=\"red\", label='Lattice')\n",
        "            ax.plot(time_lattice_cap2, voltages_lattice_cap2.iloc[:, i+2], color=\"green\", label='Lattice with Intra-Spin Cap = 2')\n",
        "            ax.plot(time_lattice_cap5, voltages_lattice_cap5.iloc[:, i+2], color=\"orange\", label='Lattice with Intra-Spin Cap = 5')\n",
        "            ax.plot(time_lattice_cap10, voltages_lattice_cap10.iloc[:, i+2], color=\"purple\", label='Lattice with Intra-Spin Cap = 10')\n",
        "            # # Add OpenJIJ results as a horizontal line (assuming ±1 Ising values map to voltage)\n",
        "            # openjij_voltage = best_sample[i]  # OpenJIJ spin value (-1 or 1)\n",
        "            # ax.axhline(y=openjij_voltage, color='red', linestyle='--', label='OpenJIJ')\n",
        "\n",
        "            ax.set_title(f'Node Q{i+1}')\n",
        "            ax.set_xlabel('Time (s)')\n",
        "            ax.set_ylabel('Voltage (V)')\n",
        "            ax.grid(True)\n",
        "            ax.legend()\n",
        "\n",
        "        # Hide unused subplots\n",
        "        for j in range(num_nodes, len(axs)):\n",
        "            axs[j].axis('off')\n",
        "\n",
        "        plt.tight_layout()\n",
        "\n",
        "    except Exception as e:\n",
        "        print(f\"Error plotting results: {str(e)}\")\n",
        "\n",
        "num_nodes = 60\n",
        "sparsity = 0.0983\n",
        "cap_values_femto = 200\n",
        "\n",
        "# Create graph\n",
        "# G = nx.erdos_renyi_graph(num_nodes, sparsity)\n",
        "G = generate_graph_with_sparsity(num_nodes, sparsity)\n",
        "print(\"k=\", sparsity*(num_nodes-1))\n",
        "lattice_size, square_lattice, embedding = find_minimum_lattice_size(G)\n",
        "\n",
        "# Generate netlists\n",
        "fc_netlist = generate_spice_netlist(G, embedding, cap_values_femto, graph='fc')\n",
        "with open(r\"/content/AutomatedfcIsing.cir\", \"w\") as f:\n",
        "    f.write(fc_netlist)\n",
        "print(\"SPICE netlist generated: AutomatedFCIsing.cir\")\n",
        "\n",
        "lattice_netlist = generate_spice_netlist(G, embedding, cap_values_femto, graph='lattice')\n",
        "with open(r\"/content/AutomatedlatticeIsing.cir\", \"w\") as f:\n",
        "    f.write(lattice_netlist)\n",
        "print(\"SPICE netlist generated: AutomatedLatticeIsing.cir\")\n",
        "\n",
        "lattice_cap2_netlist = generate_spice_netlist(G, embedding, cap_values_femto, graph='latticecap2')\n",
        "with open(r\"/content/AutomatedLatticeIsingCap2.cir\", \"w\") as f:\n",
        "    f.write(lattice_cap2_netlist)\n",
        "print(\"SPICE netlist generated: AutomatedLatticeIsingCap2.cir\")\n",
        "\n",
        "lattice_cap5_netlist = generate_spice_netlist(G, embedding, cap_values_femto, graph='latticecap5')\n",
        "with open(r\"/content/AutomatedLatticeIsingCap5.cir\", \"w\") as f:\n",
        "    f.write(lattice_cap5_netlist)\n",
        "print(\"SPICE netlist generated: AutomatedLatticeIsingCap5.cir\")\n",
        "\n",
        "lattice_cap10_netlist = generate_spice_netlist(G, embedding, cap_values_femto, graph='latticecap10')\n",
        "with open(r\"/content/AutomatedLatticeIsingCap10.cir\", \"w\") as f:\n",
        "    f.write(lattice_cap10_netlist)\n",
        "print(\"SPICE netlist generated: AutomatedLatticeIsingCap10.cir\")\n",
        "\n",
        "# Analysis\n",
        "physical_spins = set()\n",
        "for chain in embedding.values():\n",
        "    physical_spins.update(chain)\n",
        "num_spins = len(physical_spins)\n",
        "\n",
        "print(\"Minimum lattice size:\", lattice_size, \"x\", lattice_size)\n",
        "print(\"Number of physical spins used:\", num_spins)\n",
        "print(\"Embedding:\", embedding)\n",
        "print(\"Initial Edges:\", G.edges())\n",
        "\n",
        "# Visualization\n",
        "plt.figure(figsize=(10, 5))\n",
        "# plt.subplot(121)\n",
        "pos_G = nx.spring_layout(G, seed=42)\n",
        "nx.draw(G, pos_G, with_labels=True, node_color='lightblue', edge_color='gray', node_size=600, font_size=10, font_weight='bold')\n",
        "plt.title(\"Original Graph\")\n",
        "\n",
        "plt.figure(figsize=(10, 5))\n",
        "# plt.subplot(122)\n",
        "pos = {(x, y): (x, y) for x, y in square_lattice.nodes()}\n",
        "nx.draw(square_lattice, pos, node_size=100, node_color='lightgray', with_labels=True)\n",
        "\n",
        "for node, chain in embedding.items():\n",
        "    for qubit in chain:\n",
        "        nx.draw_networkx_nodes(square_lattice, pos, nodelist=[qubit], node_color='red', node_size=200)\n",
        "    for edge in find_unit_edges(chain):\n",
        "        nx.draw_networkx_edges(square_lattice, pos, edgelist=[edge], edge_color='blue', width=2)\n",
        "\n",
        "for node, chain in embedding.items():\n",
        "    for qubit in chain:\n",
        "        plt.text(\n",
        "            pos[qubit][0], pos[qubit][1] + 0.1,\n",
        "            f\"{node}\",\n",
        "            horizontalalignment='center',\n",
        "            color='black',\n",
        "            fontsize=12,\n",
        "            bbox=dict(facecolor='white', edgecolor='none', alpha=0.8))\n",
        "plt.title(f\"Embedded Graph on {lattice_size}x{lattice_size} Lattice\\n\"\n",
        "            f\"Initial Edges in Red, Chains in Blue\")\n",
        "\n",
        "for u, v in G.edges():\n",
        "    chain_u = embedding[u]\n",
        "    chain_v = embedding[v]\n",
        "    qubit_u = chain_u[-1]\n",
        "    qubit_v = chain_v[-1]\n",
        "    if (qubit_u[0] == qubit_v[0] and abs(qubit_u[1]-qubit_v[1]) == 1) or (qubit_u[1] == qubit_v[1] and abs(qubit_u[0]-qubit_v[0]) == 1):\n",
        "        nx.draw_networkx_edges(\n",
        "            square_lattice, pos,\n",
        "            edgelist=[(qubit_u, qubit_v)],\n",
        "            edge_color='red',\n",
        "            width=2\n",
        "        )\n",
        "    else:\n",
        "        for i_qubit in chain_u[::-1]:\n",
        "            for j_qubit in chain_v[::-1]:\n",
        "                if (i_qubit[0] == j_qubit[0] and abs(i_qubit[1]-j_qubit[1]) == 1) or (i_qubit[1] == j_qubit[1] and abs(i_qubit[0]-j_qubit[0]) == 1):\n",
        "                    nx.draw_networkx_edges(\n",
        "                        square_lattice, pos,\n",
        "                        edgelist=[(i_qubit, j_qubit)],\n",
        "                        edge_color='red',\n",
        "                        width=2\n",
        "                    )\n",
        "                    break\n",
        "            else:\n",
        "                continue\n",
        "            break\n",
        "# Run simulations\n",
        "run_ngspice_colab(r\"/content/AutomatedfcIsing.cir\")\n",
        "run_ngspice_colab(r\"/content/AutomatedlatticeIsing.cir\")\n",
        "run_ngspice_colab(r\"/content/AutomatedLatticeIsingCap2.cir\")\n",
        "run_ngspice_colab(r\"/content/AutomatedLatticeIsingCap5.cir\")\n",
        "run_ngspice_colab(r\"/content/AutomatedLatticeIsingCap10.cir\")\n",
        "H_bm = solve_ising_problem(G)\n",
        "plot_node_comparisons(num_nodes)\n",
        "H_fc = compute_hamiltonian(\"AutomatedfcIsing.csv\", G.edges(), cap_values_femto, graph=\"fc\")\n",
        "H_lattice= compute_hamiltonian(\"AutomatedlatticeIsing.csv\", G.edges(), cap_values_femto, graph=\"lattice\", embedding=embedding)\n",
        "H_lattice_cap2 = compute_hamiltonian(\"AutomatedLatticeIsingCap2.csv\", G.edges(), cap_values_femto, graph=\"latticecap2\", embedding=embedding)\n",
        "H_lattice_cap5 = compute_hamiltonian(\"AutomatedLatticeIsingCap5.csv\", G.edges(), cap_values_femto, graph=\"latticecap5\", embedding=embedding)\n",
        "H_lattice_cap10 = compute_hamiltonian(\"AutomatedLatticeIsingCap10.csv\", G.edges(), cap_values_femto, graph=\"latticecap10\", embedding=embedding)\n",
        "print(\"Hamiltonian (FC):\", H_fc[0])\n",
        "print(\"Hamiltonian (Lattice):\", H_lattice[0])\n",
        "print(\"Hamiltonian (Lattice with Intra-Spin Cap = 2):\", H_lattice_cap2[0])\n",
        "print(\"Hamiltonian (Lattice with Intra-Spin Cap = 5):\", H_lattice_cap5[0])\n",
        "print(\"Hamiltonian (Lattice with Intra-Spin Cap = 10):\", H_lattice_cap10[0])\n",
        "print(\"Hamiltonian (Benchmark):\", H_bm)\n",
        "\n",
        "print(\"First exceed time (FC):\", H_fc[1])\n",
        "print(\"First exceed time (Lattice):\", H_lattice[1])\n",
        "print(\"First exceed time (Lattice with Intra-Spin Cap = 2):\", H_lattice_cap2[1])\n",
        "print(\"First exceed time (Lattice with Intra-Spin Cap = 5):\", H_lattice_cap5[1])\n",
        "print(\"First exceed time (Lattice with Intra-Spin Cap = 10):\", H_lattice_cap10[1])\n",
        "if H_fc[0] == H_bm:\n",
        "    print(\"✅ FC Hamiltonian matches benchmark results!\")\n",
        "else:\n",
        "    print(\"❌ FC Hamiltonian does not match benchmark results.\")\n",
        "\n",
        "if H_lattice[0] == H_bm:\n",
        "    print(\"✅ Lattice Hamiltonian matches benchmark results!\")\n",
        "else:\n",
        "    print(\"❌ Lattice Hamiltonian does not match benchmark results.\")\n",
        "\n",
        "if H_lattice_cap2[0] == H_bm:\n",
        "    print(\"✅ Lattice with Cap = 2 Hamiltonian matches benchmark results!\")\n",
        "else:\n",
        "    print(\"❌ Lattice with Cap = 2 Hamiltonian does not match benchmark results.\")\n",
        "\n",
        "if H_lattice_cap5[0] == H_bm:\n",
        "    print(\"✅ Lattice with Cap = 5 Hamiltonian matches benchmark results!\")\n",
        "else:\n",
        "    print(\"❌ Lattice with Cap = 5 Hamiltonian does not match benchmark results.\")\n",
        "\n",
        "if H_lattice_cap10[0] == H_bm:\n",
        "    print(\"✅ Lattice with Cap = 10 Hamiltonian matches benchmark results!\")\n",
        "else:\n",
        "    print(\"❌ Lattice with Cap = 10 Hamiltonian does not match benchmark results.\")\n",
        "plt.show()"
      ]
    },
    {
      "cell_type": "code",
      "execution_count": null,
      "metadata": {
        "colab": {
          "base_uri": "https://localhost:8080/"
        },
        "id": "01rGPGuLqFGO",
        "outputId": "f3da3d65-9f68-4e48-ce56-f35f56b7d25a"
      },
      "outputs": [
        {
          "name": "stdout",
          "output_type": "stream",
          "text": [
            "Effective Sparsity Checker\n",
            "==================================================\n",
            "This shows the actual edge probabilities being used\n",
            "\n",
            "\n",
            "Node size: 10\n",
            "- Max possible edges: 45\n",
            "- Planar graph limit: 24 edges (0.5333 sparsity)\n",
            "\n",
            "Requested sparsities:\n",
            "  0.1 * 0.5333 = 0.0533 → ~2.4 edges, k = 0.4800 \n",
            "  0.2 * 0.5333 = 0.1067 → ~4.8 edges, k = 0.9600 \n",
            "  0.3 * 0.5333 = 0.1600 → ~7.2 edges, k = 1.4400 \n",
            "  0.4 * 0.5333 = 0.2133 → ~9.6 edges, k = 1.9200 \n",
            "  0.5 * 0.5333 = 0.2667 → ~12.0 edges, k = 2.4000 \n",
            "  0.6 * 0.5333 = 0.3200 → ~14.4 edges, k = 2.8800 \n",
            "  0.7 * 0.5333 = 0.3733 → ~16.8 edges, k = 3.3600 \n",
            "  0.8 * 0.5333 = 0.4267 → ~19.2 edges, k = 3.8400 \n",
            "  0.9 * 0.5333 = 0.4800 → ~21.6 edges, k = 4.3200 \n",
            "  1.0 * 0.5333 = 0.5333 → ~24.0 edges, k = 4.8000 \n",
            "\n",
            "Node size: 20\n",
            "- Max possible edges: 190\n",
            "- Planar graph limit: 54 edges (0.2842 sparsity)\n",
            "\n",
            "Requested sparsities:\n",
            "  0.1 * 0.2842 = 0.0284 → ~5.4 edges, k = 0.5400 ⚠️ Low - might get empty graphs\n",
            "  0.2 * 0.2842 = 0.0568 → ~10.8 edges, k = 1.0800 \n",
            "  0.3 * 0.2842 = 0.0853 → ~16.2 edges, k = 1.6200 \n",
            "  0.4 * 0.2842 = 0.1137 → ~21.6 edges, k = 2.1600 \n",
            "  0.5 * 0.2842 = 0.1421 → ~27.0 edges, k = 2.7000 \n",
            "  0.6 * 0.2842 = 0.1705 → ~32.4 edges, k = 3.2400 \n",
            "  0.7 * 0.2842 = 0.1989 → ~37.8 edges, k = 3.7800 \n",
            "  0.8 * 0.2842 = 0.2274 → ~43.2 edges, k = 4.3200 \n",
            "  0.9 * 0.2842 = 0.2558 → ~48.6 edges, k = 4.8600 \n",
            "  1.0 * 0.2842 = 0.2842 → ~54.0 edges, k = 5.4000 \n",
            "\n",
            "Node size: 30\n",
            "- Max possible edges: 435\n",
            "- Planar graph limit: 84 edges (0.1931 sparsity)\n",
            "\n",
            "Requested sparsities:\n",
            "  0.1 * 0.1931 = 0.0193 → ~8.4 edges, k = 0.5600 ⚠️ Low - might get empty graphs\n",
            "  0.2 * 0.1931 = 0.0386 → ~16.8 edges, k = 1.1200 ⚠️ Low - might get empty graphs\n",
            "  0.3 * 0.1931 = 0.0579 → ~25.2 edges, k = 1.6800 \n",
            "  0.4 * 0.1931 = 0.0772 → ~33.6 edges, k = 2.2400 \n",
            "  0.5 * 0.1931 = 0.0966 → ~42.0 edges, k = 2.8000 \n",
            "  0.6 * 0.1931 = 0.1159 → ~50.4 edges, k = 3.3600 \n",
            "  0.7 * 0.1931 = 0.1352 → ~58.8 edges, k = 3.9200 \n",
            "  0.8 * 0.1931 = 0.1545 → ~67.2 edges, k = 4.4800 \n",
            "  0.9 * 0.1931 = 0.1738 → ~75.6 edges, k = 5.0400 \n",
            "  1.0 * 0.1931 = 0.1931 → ~84.0 edges, k = 5.6000 \n",
            "\n",
            "Node size: 40\n",
            "- Max possible edges: 780\n",
            "- Planar graph limit: 114 edges (0.1462 sparsity)\n",
            "\n",
            "Requested sparsities:\n",
            "  0.1 * 0.1462 = 0.0146 → ~11.4 edges, k = 0.5700 ⚠️ Low - might get empty graphs\n",
            "  0.2 * 0.1462 = 0.0292 → ~22.8 edges, k = 1.1400 ⚠️ Low - might get empty graphs\n",
            "  0.3 * 0.1462 = 0.0438 → ~34.2 edges, k = 1.7100 ⚠️ Low - might get empty graphs\n",
            "  0.4 * 0.1462 = 0.0585 → ~45.6 edges, k = 2.2800 \n",
            "  0.5 * 0.1462 = 0.0731 → ~57.0 edges, k = 2.8500 \n",
            "  0.6 * 0.1462 = 0.0877 → ~68.4 edges, k = 3.4200 \n",
            "  0.7 * 0.1462 = 0.1023 → ~79.8 edges, k = 3.9900 \n",
            "  0.8 * 0.1462 = 0.1169 → ~91.2 edges, k = 4.5600 \n",
            "  0.9 * 0.1462 = 0.1315 → ~102.6 edges, k = 5.1300 \n",
            "  1.0 * 0.1462 = 0.1462 → ~114.0 edges, k = 5.7000 \n",
            "\n",
            "Node size: 50\n",
            "- Max possible edges: 1225\n",
            "- Planar graph limit: 144 edges (0.1176 sparsity)\n",
            "\n",
            "Requested sparsities:\n",
            "  0.1 * 0.1176 = 0.0118 → ~14.4 edges, k = 0.5760 ⚠️ Low - might get empty graphs\n",
            "  0.2 * 0.1176 = 0.0235 → ~28.8 edges, k = 1.1520 ⚠️ Low - might get empty graphs\n",
            "  0.3 * 0.1176 = 0.0353 → ~43.2 edges, k = 1.7280 ⚠️ Low - might get empty graphs\n",
            "  0.4 * 0.1176 = 0.0470 → ~57.6 edges, k = 2.3040 ⚠️ Low - might get empty graphs\n",
            "  0.5 * 0.1176 = 0.0588 → ~72.0 edges, k = 2.8800 \n",
            "  0.6 * 0.1176 = 0.0705 → ~86.4 edges, k = 3.4560 \n",
            "  0.7 * 0.1176 = 0.0823 → ~100.8 edges, k = 4.0320 \n",
            "  0.8 * 0.1176 = 0.0940 → ~115.2 edges, k = 4.6080 \n",
            "  0.9 * 0.1176 = 0.1058 → ~129.6 edges, k = 5.1840 \n",
            "  1.0 * 0.1176 = 0.1176 → ~144.0 edges, k = 5.7600 \n",
            "\n",
            "Node size: 60\n",
            "- Max possible edges: 1770\n",
            "- Planar graph limit: 174 edges (0.0983 sparsity)\n",
            "\n",
            "Requested sparsities:\n",
            "  0.1 * 0.0983 = 0.0098 → ~17.4 edges, k = 0.5800 ⚠️ VERY LOW - likely empty graphs\n",
            "  0.2 * 0.0983 = 0.0197 → ~34.8 edges, k = 1.1600 ⚠️ Low - might get empty graphs\n",
            "  0.3 * 0.0983 = 0.0295 → ~52.2 edges, k = 1.7400 ⚠️ Low - might get empty graphs\n",
            "  0.4 * 0.0983 = 0.0393 → ~69.6 edges, k = 2.3200 ⚠️ Low - might get empty graphs\n",
            "  0.5 * 0.0983 = 0.0492 → ~87.0 edges, k = 2.9000 ⚠️ Low - might get empty graphs\n",
            "  0.6 * 0.0983 = 0.0590 → ~104.4 edges, k = 3.4800 \n",
            "  0.7 * 0.0983 = 0.0688 → ~121.8 edges, k = 4.0600 \n",
            "  0.8 * 0.0983 = 0.0786 → ~139.2 edges, k = 4.6400 \n",
            "  0.9 * 0.0983 = 0.0885 → ~156.6 edges, k = 5.2200 \n",
            "  1.0 * 0.0983 = 0.0983 → ~174.0 edges, k = 5.8000 \n"
          ]
        }
      ],
      "source": [
        "def check_effective_sparsity():\n",
        "    node_sizes = [10, 20, 30, 40, 50, 60]\n",
        "    sparsity_values = [0.1, 0.2, 0.3, 0.4, 0.5, 0.6, 0.7, 0.8, 0.9, 1.0]\n",
        "\n",
        "    print(\"Effective Sparsity Checker\")\n",
        "    print(\"=\"*50)\n",
        "    print(\"This shows the actual edge probabilities being used\\n\")\n",
        "\n",
        "    for num_nodes in node_sizes:\n",
        "        max_edges_planar = 3 * num_nodes - 6\n",
        "        max_possible_edges = num_nodes * (num_nodes - 1) / 2\n",
        "        max_sparsity = max_edges_planar / max_possible_edges\n",
        "\n",
        "        print(f\"\\nNode size: {num_nodes}\")\n",
        "        print(f\"- Max possible edges: {int(max_possible_edges)}\")\n",
        "        print(f\"- Planar graph limit: {max_edges_planar} edges ({max_sparsity:.4f} sparsity)\")\n",
        "        print(\"\\nRequested sparsities:\")\n",
        "\n",
        "        for sparsity in sparsity_values:\n",
        "            effective_sparsity = sparsity * max_sparsity\n",
        "            avg_edges = effective_sparsity * max_possible_edges\n",
        "            k = effective_sparsity * (num_nodes-1)\n",
        "            warning = \"\"\n",
        "            if effective_sparsity < 0.01:\n",
        "                warning = \"⚠️ VERY LOW - likely empty graphs\"\n",
        "            elif effective_sparsity < 0.05:\n",
        "                warning = \"⚠️ Low - might get empty graphs\"\n",
        "\n",
        "            print(f\"  {sparsity:.1f} * {max_sparsity:.4f} = {effective_sparsity:.4f} → ~{avg_edges:.1f} edges, k = {k:.4f} {warning}\")\n",
        "\n",
        "if __name__ == \"__main__\":\n",
        "    check_effective_sparsity()"
      ]
    },
    {
      "cell_type": "markdown",
      "metadata": {
        "id": "LIDSmKtahp8S"
      },
      "source": [
        "# **8) MAIN: Takes most of the time**"
      ]
    },
    {
      "cell_type": "code",
      "execution_count": null,
      "metadata": {
        "colab": {
          "base_uri": "https://localhost:8080/"
        },
        "id": "Se3XLEJF3Tsx",
        "outputId": "131d4136-c129-4898-877d-cb2c88642376"
      },
      "outputs": [
        {
          "output_type": "stream",
          "name": "stdout",
          "text": [
            "--- Phase 1: Pre-generating and Embedding Test Cases ---\n"
          ]
        },
        {
          "output_type": "stream",
          "name": "stderr",
          "text": [
            "Node Size Sweep:   0%|          | 0/2 [00:00<?, ?it/s]\n",
            "N=10, S=1.00:   0%|          | 0/50 [00:00<?, ?it/s]\u001b[A\n",
            "N=10, S=1.00:   6%|▌         | 3/50 [00:00<00:02, 23.39it/s]\u001b[A\n",
            "N=10, S=1.00:  14%|█▍        | 7/50 [00:00<00:01, 29.28it/s]\u001b[A\n",
            "N=10, S=1.00:  24%|██▍       | 12/50 [00:00<00:01, 36.30it/s]\u001b[A\n",
            "N=10, S=1.00:  36%|███▌      | 18/50 [00:00<00:00, 43.00it/s]\u001b[A\n",
            "N=10, S=1.00:  52%|█████▏    | 26/50 [00:00<00:00, 55.10it/s]\u001b[A\n",
            "N=10, S=1.00:  66%|██████▌   | 33/50 [00:00<00:00, 58.31it/s]\u001b[A\n",
            "N=10, S=1.00:  78%|███████▊  | 39/50 [00:00<00:00, 54.81it/s]\u001b[A\n",
            "N=10, S=1.00:  90%|█████████ | 45/50 [00:00<00:00, 53.74it/s]\u001b[A\n",
            "Node Size Sweep:  50%|█████     | 1/2 [00:01<00:01,  1.04s/it]\n",
            "N=60, S=1.00:   0%|          | 0/50 [00:00<?, ?it/s]\u001b[A\n",
            "N=60, S=1.00:   2%|▏         | 1/50 [00:02<01:44,  2.13s/it]\u001b[A\n",
            "N=60, S=1.00:   4%|▍         | 2/50 [00:07<03:10,  3.96s/it]\u001b[A\n",
            "N=60, S=1.00:   6%|▌         | 3/50 [00:09<02:37,  3.35s/it]\u001b[A\n",
            "N=60, S=1.00:   8%|▊         | 4/50 [00:11<02:05,  2.74s/it]\u001b[A\n",
            "N=60, S=1.00:  10%|█         | 5/50 [00:14<01:55,  2.56s/it]\u001b[A\n",
            "N=60, S=1.00:  12%|█▏        | 6/50 [00:15<01:38,  2.23s/it]\u001b[A\n",
            "N=60, S=1.00:  14%|█▍        | 7/50 [00:17<01:30,  2.11s/it]\u001b[A\n",
            "N=60, S=1.00:  16%|█▌        | 8/50 [00:19<01:29,  2.14s/it]\u001b[A\n",
            "N=60, S=1.00:  18%|█▊        | 9/50 [00:21<01:21,  1.99s/it]\u001b[A\n",
            "N=60, S=1.00:  20%|██        | 10/50 [00:22<01:06,  1.67s/it]\u001b[A\n",
            "N=60, S=1.00:  22%|██▏       | 11/50 [00:23<00:55,  1.41s/it]\u001b[A\n",
            "N=60, S=1.00:  24%|██▍       | 12/50 [00:24<00:47,  1.25s/it]\u001b[A\n",
            "N=60, S=1.00:  26%|██▌       | 13/50 [00:24<00:40,  1.08s/it]\u001b[A\n",
            "N=60, S=1.00:  28%|██▊       | 14/50 [00:25<00:36,  1.00s/it]\u001b[A\n",
            "N=60, S=1.00:  30%|███       | 15/50 [00:26<00:39,  1.13s/it]\u001b[A\n",
            "N=60, S=1.00:  32%|███▏      | 16/50 [00:27<00:33,  1.02it/s]\u001b[A\n",
            "N=60, S=1.00:  34%|███▍      | 17/50 [00:28<00:30,  1.07it/s]\u001b[A\n",
            "N=60, S=1.00:  36%|███▌      | 18/50 [00:30<00:39,  1.25s/it]\u001b[A\n",
            "N=60, S=1.00:  38%|███▊      | 19/50 [00:31<00:34,  1.10s/it]\u001b[A\n",
            "N=60, S=1.00:  40%|████      | 20/50 [00:32<00:35,  1.19s/it]\u001b[A\n",
            "N=60, S=1.00:  42%|████▏     | 21/50 [00:33<00:35,  1.23s/it]\u001b[A\n",
            "N=60, S=1.00:  44%|████▍     | 22/50 [00:34<00:29,  1.06s/it]\u001b[A\n",
            "N=60, S=1.00:  46%|████▌     | 23/50 [00:35<00:29,  1.10s/it]\u001b[A\n",
            "N=60, S=1.00:  48%|████▊     | 24/50 [00:36<00:26,  1.01s/it]\u001b[A\n",
            "N=60, S=1.00:  50%|█████     | 25/50 [00:37<00:22,  1.12it/s]\u001b[A\n",
            "N=60, S=1.00:  52%|█████▏    | 26/50 [00:38<00:24,  1.02s/it]\u001b[A\n",
            "N=60, S=1.00:  54%|█████▍    | 27/50 [00:39<00:22,  1.04it/s]\u001b[A\n",
            "N=60, S=1.00:  56%|█████▌    | 28/50 [00:39<00:19,  1.14it/s]\u001b[A\n",
            "N=60, S=1.00:  58%|█████▊    | 29/50 [00:40<00:17,  1.19it/s]\u001b[A\n",
            "N=60, S=1.00:  60%|██████    | 30/50 [00:41<00:18,  1.10it/s]\u001b[A\n",
            "N=60, S=1.00:  62%|██████▏   | 31/50 [00:42<00:17,  1.09it/s]\u001b[A\n",
            "N=60, S=1.00:  64%|██████▍   | 32/50 [00:44<00:21,  1.18s/it]\u001b[A\n",
            "N=60, S=1.00:  66%|██████▌   | 33/50 [00:45<00:19,  1.16s/it]\u001b[A\n",
            "N=60, S=1.00:  68%|██████▊   | 34/50 [00:46<00:18,  1.18s/it]\u001b[A\n",
            "N=60, S=1.00:  70%|███████   | 35/50 [00:47<00:17,  1.14s/it]\u001b[A\n",
            "N=60, S=1.00:  72%|███████▏  | 36/50 [00:48<00:13,  1.01it/s]\u001b[A\n",
            "N=60, S=1.00:  74%|███████▍  | 37/50 [00:49<00:12,  1.01it/s]\u001b[A\n",
            "N=60, S=1.00:  76%|███████▌  | 38/50 [00:50<00:11,  1.03it/s]\u001b[A\n",
            "N=60, S=1.00:  78%|███████▊  | 39/50 [00:51<00:10,  1.09it/s]\u001b[A\n",
            "N=60, S=1.00:  80%|████████  | 40/50 [00:52<00:08,  1.12it/s]\u001b[A\n",
            "N=60, S=1.00:  82%|████████▏ | 41/50 [00:53<00:09,  1.05s/it]\u001b[A\n",
            "N=60, S=1.00:  84%|████████▍ | 42/50 [00:54<00:07,  1.04it/s]\u001b[A\n",
            "N=60, S=1.00:  86%|████████▌ | 43/50 [00:54<00:05,  1.24it/s]\u001b[A\n",
            "N=60, S=1.00:  88%|████████▊ | 44/50 [00:55<00:05,  1.15it/s]\u001b[A\n",
            "N=60, S=1.00:  90%|█████████ | 45/50 [00:56<00:04,  1.16it/s]\u001b[A\n",
            "N=60, S=1.00:  92%|█████████▏| 46/50 [00:57<00:03,  1.15it/s]\u001b[A\n",
            "N=60, S=1.00:  94%|█████████▍| 47/50 [00:58<00:02,  1.05it/s]\u001b[A\n",
            "N=60, S=1.00:  96%|█████████▌| 48/50 [01:00<00:02,  1.13s/it]\u001b[A\n",
            "N=60, S=1.00:  98%|█████████▊| 49/50 [01:01<00:01,  1.04s/it]\u001b[A\n",
            "N=60, S=1.00: 100%|██████████| 50/50 [01:01<00:00,  1.05it/s]\u001b[A\n",
            "Node Size Sweep: 100%|██████████| 2/2 [01:02<00:00, 31.40s/it]"
          ]
        },
        {
          "output_type": "stream",
          "name": "stdout",
          "text": [
            "\n",
            "--- Summary of Generated Test Cases ---\n",
            "Nodes     Sparsity    Generated Cases          \n",
            "--------------------------------------------------\n",
            "10        1.00        50                       \n",
            "60        1.00        50                       \n",
            "✅ Saved 50 cases to saved_cases/N10_S1.00.txt\n",
            "✅ Saved 50 cases to saved_cases/N60_S1.00.txt\n"
          ]
        },
        {
          "output_type": "stream",
          "name": "stderr",
          "text": [
            "\n"
          ]
        }
      ],
      "source": [
        "num_tests_per_point = 50\n",
        "capacitance_values_sweep = np.array([200])\n",
        "node_sizes_sweep = [10, 60]\n",
        "sparsity_values_sweep = [1]\n",
        "# Phase 1: Generate all test cases\n",
        "generated_cases, valid_combos = generate_test_cases(\n",
        "    node_sizes=node_sizes_sweep,\n",
        "    sparsity_values=sparsity_values_sweep,\n",
        "    num_tests=num_tests_per_point\n",
        ")"
      ]
    },
    {
      "cell_type": "code",
      "execution_count": null,
      "metadata": {
        "colab": {
          "base_uri": "https://localhost:8080/"
        },
        "id": "50bdv-Hp4rAy",
        "outputId": "f63edf89-91b7-46f1-c504-ab4bdc5336f8"
      },
      "outputs": [
        {
          "output_type": "stream",
          "name": "stdout",
          "text": [
            "\n",
            "--- Phase 2: Starting SPICE Simulation Sweep ---\n"
          ]
        },
        {
          "output_type": "stream",
          "name": "stderr",
          "text": [
            "Capacitance Sweep:   0%|          | 0/1 [00:00<?, ?it/s]\n",
            "Simulating N=10, S=1.00, C=200fF:   0%|          | 0/50 [00:00<?, ?it/s]\u001b[A\n",
            "Simulating N=10, S=1.00, C=200fF:   2%|▏         | 1/50 [00:00<00:05,  9.24it/s]\u001b[A"
          ]
        },
        {
          "output_type": "stream",
          "name": "stdout",
          "text": [
            "Partition: ({1, 3, 5, 6, 8}, {0, 2, 4, 7, 9})\n",
            "[-1, 1, -1, 1, -1, 1, 1, -1, 1, -1]\n",
            "Partition: ({0, 1, 5, 6, 7, 9}, {8, 2, 3, 4})\n",
            "[1, 1, -1, -1, -1, 1, 1, 1, -1, 1]\n"
          ]
        },
        {
          "output_type": "stream",
          "name": "stderr",
          "text": [
            "\n",
            "Simulating N=10, S=1.00, C=200fF:   6%|▌         | 3/50 [00:00<00:03, 13.00it/s]\u001b[A"
          ]
        },
        {
          "output_type": "stream",
          "name": "stdout",
          "text": [
            "Partition: ({1, 2, 3, 7, 9}, {0, 4, 5, 6, 8})\n",
            "[-1, 1, 1, 1, -1, -1, -1, 1, -1, 1]\n",
            "Partition: ({1, 3, 5, 7, 9}, {0, 2, 4, 6, 8})\n",
            "[-1, 1, -1, 1, -1, 1, -1, 1, -1, 1]\n"
          ]
        },
        {
          "output_type": "stream",
          "name": "stderr",
          "text": [
            "\n",
            "Simulating N=10, S=1.00, C=200fF:  10%|█         | 5/50 [00:00<00:02, 15.61it/s]\u001b[A"
          ]
        },
        {
          "output_type": "stream",
          "name": "stdout",
          "text": [
            "Partition: ({1, 2, 3, 7, 8}, {0, 4, 5, 6, 9})\n",
            "[-1, 1, 1, 1, -1, -1, -1, 1, 1, -1]\n",
            "Partition: ({2, 3, 4, 8, 9}, {0, 1, 5, 6, 7})\n",
            "[-1, -1, 1, 1, 1, -1, -1, -1, 1, 1]\n"
          ]
        },
        {
          "output_type": "stream",
          "name": "stderr",
          "text": [
            "\n",
            "Simulating N=10, S=1.00, C=200fF:  14%|█▍        | 7/50 [00:00<00:02, 16.51it/s]\u001b[A"
          ]
        },
        {
          "output_type": "stream",
          "name": "stdout",
          "text": [
            "Partition: ({0, 1, 5, 6, 7}, {2, 3, 4, 8, 9})\n",
            "[1, 1, -1, -1, -1, 1, 1, 1, -1, -1]\n",
            "Partition: ({1, 3, 5, 7, 9}, {0, 2, 4, 6, 8})\n",
            "[-1, 1, -1, 1, -1, 1, -1, 1, -1, 1]\n"
          ]
        },
        {
          "output_type": "stream",
          "name": "stderr",
          "text": [
            "\n",
            "Simulating N=10, S=1.00, C=200fF:  20%|██        | 10/50 [00:00<00:02, 19.41it/s]\u001b[A"
          ]
        },
        {
          "output_type": "stream",
          "name": "stdout",
          "text": [
            "Partition: ({8, 2, 4, 6}, {0, 1, 3, 5, 7, 9})\n",
            "[-1, -1, 1, -1, 1, -1, 1, -1, 1, -1]\n",
            "Partition: ({0, 2, 3, 4, 7}, {1, 5, 6, 8, 9})\n",
            "[1, -1, 1, 1, 1, -1, -1, 1, -1, -1]\n",
            "Partition: ({1, 5, 6, 9}, {0, 2, 3, 4, 7, 8})\n",
            "[-1, 1, -1, -1, -1, 1, 1, -1, -1, 1]\n",
            "Partition: ({1, 3, 6, 8, 9}, {0, 2, 4, 5, 7})\n",
            "[-1, 1, -1, 1, -1, -1, 1, -1, 1, 1]\n"
          ]
        },
        {
          "output_type": "stream",
          "name": "stderr",
          "text": [
            "\n",
            "Simulating N=10, S=1.00, C=200fF:  26%|██▌       | 13/50 [00:00<00:01, 20.98it/s]\u001b[A"
          ]
        },
        {
          "output_type": "stream",
          "name": "stdout",
          "text": [
            "Partition: ({1, 5, 6}, {0, 2, 3, 4, 7, 8, 9})\n",
            "[-1, 1, -1, -1, -1, 1, 1, -1, -1, -1]\n",
            "Partition: ({0, 1, 5, 7, 9}, {2, 3, 4, 6, 8})\n",
            "[1, 1, -1, -1, -1, 1, -1, 1, -1, 1]\n",
            "Partition: ({0, 1, 5, 6, 7}, {2, 3, 4, 8, 9})\n",
            "[1, 1, -1, -1, -1, 1, 1, 1, -1, -1]\n"
          ]
        },
        {
          "output_type": "stream",
          "name": "stderr",
          "text": [
            "\n",
            "Simulating N=10, S=1.00, C=200fF:  32%|███▏      | 16/50 [00:00<00:01, 20.56it/s]\u001b[A"
          ]
        },
        {
          "output_type": "stream",
          "name": "stdout",
          "text": [
            "Partition: ({0, 1, 5, 6, 7}, {2, 3, 4, 8, 9})\n",
            "[1, 1, -1, -1, -1, 1, 1, 1, -1, -1]\n",
            "Partition: ({0, 9, 5, 7}, {1, 2, 3, 4, 6, 8})\n",
            "[1, -1, -1, -1, -1, 1, -1, 1, -1, 1]\n",
            "Partition: ({0, 2, 5, 7, 9}, {1, 3, 4, 6, 8})\n",
            "[1, -1, 1, -1, -1, 1, -1, 1, -1, 1]\n"
          ]
        },
        {
          "output_type": "stream",
          "name": "stderr",
          "text": [
            "\n",
            "Simulating N=10, S=1.00, C=200fF:  38%|███▊      | 19/50 [00:00<00:01, 20.82it/s]\u001b[A"
          ]
        },
        {
          "output_type": "stream",
          "name": "stdout",
          "text": [
            "Partition: ({0, 2, 3, 5, 7, 9}, {8, 1, 4, 6})\n",
            "[1, -1, 1, 1, -1, 1, -1, 1, -1, 1]\n",
            "Partition: ({1, 3, 5, 7, 9}, {0, 2, 4, 6, 8})\n",
            "[-1, 1, -1, 1, -1, 1, -1, 1, -1, 1]\n",
            "Partition: ({1, 3, 5, 6, 8, 9}, {0, 2, 4, 7})\n",
            "[-1, 1, -1, 1, -1, 1, 1, -1, 1, 1]\n"
          ]
        },
        {
          "output_type": "stream",
          "name": "stderr",
          "text": [
            "\n",
            "Simulating N=10, S=1.00, C=200fF:  44%|████▍     | 22/50 [00:01<00:01, 17.58it/s]\u001b[A"
          ]
        },
        {
          "output_type": "stream",
          "name": "stdout",
          "text": [
            "Partition: ({1, 3, 5, 7}, {0, 2, 4, 6, 8, 9})\n",
            "[-1, 1, -1, 1, -1, 1, -1, 1, -1, -1]\n",
            "Partition: ({0, 4, 5, 6, 9}, {1, 2, 3, 7, 8})\n",
            "[1, -1, -1, -1, 1, 1, 1, -1, -1, 1]\n"
          ]
        },
        {
          "output_type": "stream",
          "name": "stderr",
          "text": [
            "\n",
            "Simulating N=10, S=1.00, C=200fF:  48%|████▊     | 24/50 [00:01<00:01, 17.03it/s]\u001b[A"
          ]
        },
        {
          "output_type": "stream",
          "name": "stdout",
          "text": [
            "Partition: ({0, 1, 5, 6, 7, 9}, {8, 2, 3, 4})\n",
            "[1, 1, -1, -1, -1, 1, 1, 1, -1, 1]\n",
            "Partition: ({0, 1, 5, 6, 7, 9}, {8, 2, 3, 4})\n",
            "[1, 1, -1, -1, -1, 1, 1, 1, -1, 1]\n"
          ]
        },
        {
          "output_type": "stream",
          "name": "stderr",
          "text": [
            "\n",
            "Simulating N=10, S=1.00, C=200fF:  52%|█████▏    | 26/50 [00:01<00:01, 17.66it/s]\u001b[A"
          ]
        },
        {
          "output_type": "stream",
          "name": "stdout",
          "text": [
            "Partition: ({0, 2, 4, 6, 8, 9}, {1, 3, 5, 7})\n",
            "[1, -1, 1, -1, 1, -1, 1, -1, 1, 1]\n",
            "Partition: ({1, 3, 5, 7}, {0, 2, 4, 6, 8, 9})\n",
            "[-1, 1, -1, 1, -1, 1, -1, 1, -1, -1]\n"
          ]
        },
        {
          "output_type": "stream",
          "name": "stderr",
          "text": [
            "\n",
            "Simulating N=10, S=1.00, C=200fF:  56%|█████▌    | 28/50 [00:01<00:01, 17.77it/s]\u001b[A"
          ]
        },
        {
          "output_type": "stream",
          "name": "stdout",
          "text": [
            "Partition: ({0, 2, 3, 5, 7}, {1, 4, 6, 8, 9})\n",
            "[1, -1, 1, 1, -1, 1, -1, 1, -1, -1]\n",
            "Partition: ({1, 3, 5, 7, 9}, {0, 2, 4, 6, 8})\n",
            "[-1, 1, -1, 1, -1, 1, -1, 1, -1, 1]\n"
          ]
        },
        {
          "output_type": "stream",
          "name": "stderr",
          "text": [
            "\n",
            "Simulating N=10, S=1.00, C=200fF:  60%|██████    | 30/50 [00:01<00:01, 18.27it/s]\u001b[A"
          ]
        },
        {
          "output_type": "stream",
          "name": "stdout",
          "text": [
            "Partition: ({0, 4, 5, 6, 9}, {1, 2, 3, 7, 8})\n",
            "[1, -1, -1, -1, 1, 1, 1, -1, -1, 1]\n",
            "Partition: ({0, 1, 5, 6, 7}, {2, 3, 4, 8, 9})\n",
            "[1, 1, -1, -1, -1, 1, 1, 1, -1, -1]\n"
          ]
        },
        {
          "output_type": "stream",
          "name": "stderr",
          "text": [
            "\n",
            "Simulating N=10, S=1.00, C=200fF:  64%|██████▍   | 32/50 [00:01<00:00, 18.52it/s]\u001b[A"
          ]
        },
        {
          "output_type": "stream",
          "name": "stdout",
          "text": [
            "Partition: ({0, 2, 4, 6, 8}, {1, 3, 5, 7, 9})\n",
            "[1, -1, 1, -1, 1, -1, 1, -1, 1, -1]\n",
            "Partition: ({1, 3, 5, 6, 8}, {0, 2, 4, 7, 9})\n",
            "[-1, 1, -1, 1, -1, 1, 1, -1, 1, -1]\n"
          ]
        },
        {
          "output_type": "stream",
          "name": "stderr",
          "text": [
            "\n",
            "Simulating N=10, S=1.00, C=200fF:  68%|██████▊   | 34/50 [00:01<00:00, 18.78it/s]\u001b[A"
          ]
        },
        {
          "output_type": "stream",
          "name": "stdout",
          "text": [
            "Partition: ({1, 3, 5, 7, 9}, {0, 2, 4, 6, 8})\n",
            "[-1, 1, -1, 1, -1, 1, -1, 1, -1, 1]\n",
            "Partition: ({1, 3, 6, 8, 9}, {0, 2, 4, 5, 7})\n",
            "[-1, 1, -1, 1, -1, -1, 1, -1, 1, 1]\n",
            "Partition: ({1, 4, 5, 6, 8, 9}, {0, 2, 3, 7})\n",
            "[-1, 1, -1, -1, 1, 1, 1, -1, 1, 1]\n"
          ]
        },
        {
          "output_type": "stream",
          "name": "stderr",
          "text": [
            "\n",
            "Simulating N=10, S=1.00, C=200fF:  74%|███████▍  | 37/50 [00:02<00:00, 19.50it/s]\u001b[A"
          ]
        },
        {
          "output_type": "stream",
          "name": "stdout",
          "text": [
            "Partition: ({0, 1, 5, 6, 9}, {2, 3, 4, 7, 8})\n",
            "[1, 1, -1, -1, -1, 1, 1, -1, -1, 1]\n",
            "Partition: ({8, 1, 4, 6}, {0, 2, 3, 5, 7, 9})\n",
            "[-1, 1, -1, -1, 1, -1, 1, -1, 1, -1]\n"
          ]
        },
        {
          "output_type": "stream",
          "name": "stderr",
          "text": [
            "\n",
            "Simulating N=10, S=1.00, C=200fF:  78%|███████▊  | 39/50 [00:02<00:00, 19.19it/s]\u001b[A"
          ]
        },
        {
          "output_type": "stream",
          "name": "stdout",
          "text": [
            "Partition: ({0, 2, 4, 6, 8, 9}, {1, 3, 5, 7})\n",
            "[1, -1, 1, -1, 1, -1, 1, -1, 1, 1]\n",
            "Partition: ({0, 2, 3, 5, 7, 9}, {8, 1, 4, 6})\n",
            "[1, -1, 1, 1, -1, 1, -1, 1, -1, 1]\n"
          ]
        },
        {
          "output_type": "stream",
          "name": "stderr",
          "text": [
            "\n",
            "Simulating N=10, S=1.00, C=200fF:  82%|████████▏ | 41/50 [00:02<00:00, 17.41it/s]\u001b[A"
          ]
        },
        {
          "output_type": "stream",
          "name": "stdout",
          "text": [
            "Partition: ({0, 2, 3, 4, 7}, {1, 5, 6, 8, 9})\n",
            "[1, -1, 1, 1, 1, -1, -1, 1, -1, -1]\n",
            "Partition: ({0, 4, 5, 6, 9}, {1, 2, 3, 7, 8})\n",
            "[1, -1, -1, -1, 1, 1, 1, -1, -1, 1]\n"
          ]
        },
        {
          "output_type": "stream",
          "name": "stderr",
          "text": [
            "\n",
            "Simulating N=10, S=1.00, C=200fF:  86%|████████▌ | 43/50 [00:02<00:00, 13.88it/s]\u001b[A"
          ]
        },
        {
          "output_type": "stream",
          "name": "stdout",
          "text": [
            "Partition: ({1, 3, 5, 7, 9}, {0, 2, 4, 6, 8})\n",
            "[-1, 1, -1, 1, -1, 1, -1, 1, -1, 1]\n"
          ]
        },
        {
          "output_type": "stream",
          "name": "stderr",
          "text": [
            "\n",
            "Simulating N=10, S=1.00, C=200fF:  90%|█████████ | 45/50 [00:02<00:00, 14.25it/s]\u001b[A"
          ]
        },
        {
          "output_type": "stream",
          "name": "stdout",
          "text": [
            "Partition: ({0, 2, 4, 6, 8, 9}, {1, 3, 5, 7})\n",
            "[1, -1, 1, -1, 1, -1, 1, -1, 1, 1]\n",
            "Partition: ({2, 3, 4, 8, 9}, {0, 1, 5, 6, 7})\n",
            "[-1, -1, 1, 1, 1, -1, -1, -1, 1, 1]\n",
            "Partition: ({1, 3, 5, 7, 9}, {0, 2, 4, 6, 8})\n",
            "[-1, 1, -1, 1, -1, 1, -1, 1, -1, 1]\n"
          ]
        },
        {
          "output_type": "stream",
          "name": "stderr",
          "text": [
            "\n",
            "Simulating N=10, S=1.00, C=200fF:  94%|█████████▍| 47/50 [00:02<00:00, 14.98it/s]\u001b[A"
          ]
        },
        {
          "output_type": "stream",
          "name": "stdout",
          "text": [
            "Partition: ({1, 3, 5, 6, 8}, {0, 2, 4, 7, 9})\n",
            "[-1, 1, -1, 1, -1, 1, 1, -1, 1, -1]\n"
          ]
        },
        {
          "output_type": "stream",
          "name": "stderr",
          "text": [
            "\n",
            "Simulating N=10, S=1.00, C=200fF:  98%|█████████▊| 49/50 [00:02<00:00, 15.87it/s]\u001b[A\n",
            "                                                                                 \u001b[A"
          ]
        },
        {
          "output_type": "stream",
          "name": "stdout",
          "text": [
            "Partition: ({0, 1, 5, 6, 7, 9}, {8, 2, 3, 4})\n",
            "[1, 1, -1, -1, -1, 1, 1, 1, -1, 1]\n",
            "Partition: ({8, 1, 5, 6}, {0, 2, 3, 4, 7, 9})\n",
            "[-1, 1, -1, -1, -1, 1, 1, -1, 1, -1]\n",
            "Partition: ({0, 2, 4, 5, 6}, {1, 3, 7, 8, 9})\n",
            "[1, -1, 1, -1, 1, 1, 1, -1, -1, -1]\n"
          ]
        },
        {
          "output_type": "stream",
          "name": "stderr",
          "text": [
            "\n",
            "Simulating N=60, S=1.00, C=200fF:   0%|          | 0/50 [00:00<?, ?it/s]\u001b[A\n",
            "Simulating N=60, S=1.00, C=200fF:   2%|▏         | 1/50 [00:00<00:15,  3.10it/s]\u001b[A"
          ]
        },
        {
          "output_type": "stream",
          "name": "stdout",
          "text": [
            "Partition: ({1, 3, 5, 7, 9, 11, 13, 15, 17, 19, 21, 23, 25, 27, 28, 29, 30, 31, 33, 36, 39, 41, 42, 44, 47, 52, 53, 55, 57}, {0, 2, 4, 6, 8, 10, 12, 14, 16, 18, 20, 22, 24, 26, 32, 34, 35, 37, 38, 40, 43, 45, 46, 48, 49, 50, 51, 54, 56, 58, 59})\n",
            "[-1, 1, -1, 1, -1, 1, -1, 1, -1, 1, -1, 1, -1, 1, -1, 1, -1, 1, -1, 1, -1, 1, -1, 1, -1, 1, -1, 1, 1, 1, 1, 1, -1, 1, -1, -1, 1, -1, -1, 1, -1, 1, 1, -1, 1, -1, -1, 1, -1, -1, -1, -1, 1, 1, -1, 1, -1, 1, -1, -1]\n"
          ]
        },
        {
          "output_type": "stream",
          "name": "stderr",
          "text": [
            "\n",
            "Simulating N=60, S=1.00, C=200fF:   4%|▍         | 2/50 [00:00<00:20,  2.34it/s]\u001b[A"
          ]
        },
        {
          "output_type": "stream",
          "name": "stdout",
          "text": [
            "Partition: ({1, 3, 5, 7, 9, 11, 13, 15, 17, 19, 21, 23, 25, 27, 29, 31, 33, 35, 37, 39, 41, 43, 45, 47, 49, 54, 55, 57, 58, 59}, {0, 2, 4, 6, 8, 10, 12, 14, 16, 18, 20, 22, 24, 26, 28, 30, 32, 34, 36, 38, 40, 42, 44, 46, 48, 50, 51, 52, 53, 56})\n",
            "[-1, 1, -1, 1, -1, 1, -1, 1, -1, 1, -1, 1, -1, 1, -1, 1, -1, 1, -1, 1, -1, 1, -1, 1, -1, 1, -1, 1, -1, 1, -1, 1, -1, 1, -1, 1, -1, 1, -1, 1, -1, 1, -1, 1, -1, 1, -1, 1, -1, 1, -1, -1, -1, -1, 1, 1, -1, 1, 1, 1]\n"
          ]
        },
        {
          "output_type": "stream",
          "name": "stderr",
          "text": [
            "\n",
            "Simulating N=60, S=1.00, C=200fF:   6%|▌         | 3/50 [00:01<00:19,  2.46it/s]\u001b[A"
          ]
        },
        {
          "output_type": "stream",
          "name": "stdout",
          "text": [
            "Partition: ({1, 3, 5, 7, 9, 11, 13, 15, 17, 19, 21, 23, 25, 27, 29, 31, 33, 35, 37, 39, 41, 43, 45, 47, 49, 52, 53, 56, 59}, {0, 2, 4, 6, 8, 10, 12, 14, 16, 18, 20, 22, 24, 26, 28, 30, 32, 34, 36, 38, 40, 42, 44, 46, 48, 50, 51, 54, 55, 57, 58})\n",
            "[-1, 1, -1, 1, -1, 1, -1, 1, -1, 1, -1, 1, -1, 1, -1, 1, -1, 1, -1, 1, -1, 1, -1, 1, -1, 1, -1, 1, -1, 1, -1, 1, -1, 1, -1, 1, -1, 1, -1, 1, -1, 1, -1, 1, -1, 1, -1, 1, -1, 1, -1, -1, 1, 1, -1, -1, 1, -1, -1, 1]\n"
          ]
        },
        {
          "output_type": "stream",
          "name": "stderr",
          "text": [
            "\n",
            "Simulating N=60, S=1.00, C=200fF:   8%|▊         | 4/50 [00:01<00:18,  2.52it/s]\u001b[A"
          ]
        },
        {
          "output_type": "stream",
          "name": "stdout",
          "text": [
            "Partition: ({0, 2, 4, 6, 8, 9, 11, 12, 14, 17, 18, 20, 21, 23, 25, 26, 29, 31, 33, 34, 35, 37, 39, 43, 45, 46, 48, 49, 50, 57, 59}, {1, 3, 5, 7, 10, 13, 15, 16, 19, 22, 24, 27, 28, 30, 32, 36, 38, 40, 41, 42, 44, 47, 51, 52, 53, 54, 55, 56, 58})\n",
            "[1, -1, 1, -1, 1, -1, 1, -1, 1, 1, -1, 1, 1, -1, 1, -1, -1, 1, 1, -1, 1, 1, -1, 1, -1, 1, 1, -1, -1, 1, -1, 1, -1, 1, 1, 1, -1, 1, -1, 1, -1, -1, -1, 1, -1, 1, 1, -1, 1, 1, 1, -1, -1, -1, -1, -1, -1, 1, -1, 1]\n"
          ]
        },
        {
          "output_type": "stream",
          "name": "stderr",
          "text": [
            "\n",
            "Simulating N=60, S=1.00, C=200fF:  10%|█         | 5/50 [00:02<00:18,  2.49it/s]\u001b[A"
          ]
        },
        {
          "output_type": "stream",
          "name": "stdout",
          "text": [
            "Partition: ({1, 3, 6, 7, 9, 11, 12, 15, 17, 19, 20, 21, 23, 25, 28, 30, 32, 33, 36, 38, 40, 41, 42, 44, 46, 51, 52, 53, 59}, {0, 2, 4, 5, 8, 10, 13, 14, 16, 18, 22, 24, 26, 27, 29, 31, 34, 35, 37, 39, 43, 45, 47, 48, 49, 50, 54, 55, 56, 57, 58})\n",
            "[-1, 1, -1, 1, -1, -1, 1, 1, -1, 1, -1, 1, 1, -1, -1, 1, -1, 1, -1, 1, 1, 1, -1, 1, -1, 1, -1, -1, 1, -1, 1, -1, 1, 1, -1, -1, 1, -1, 1, -1, 1, 1, 1, -1, 1, -1, 1, -1, -1, -1, -1, 1, 1, 1, -1, -1, -1, -1, -1, 1]\n"
          ]
        },
        {
          "output_type": "stream",
          "name": "stderr",
          "text": [
            "\n",
            "Simulating N=60, S=1.00, C=200fF:  12%|█▏        | 6/50 [00:02<00:18,  2.40it/s]\u001b[A"
          ]
        },
        {
          "output_type": "stream",
          "name": "stdout",
          "text": [
            "Partition: ({1, 3, 5, 7, 8, 11, 12, 13, 15, 16, 18, 20, 21, 23, 25, 26, 28, 30, 34, 36, 37, 39, 40, 42, 43, 45, 48, 49, 50, 54, 55, 57}, {0, 2, 4, 6, 9, 10, 14, 17, 19, 22, 24, 27, 29, 31, 32, 33, 35, 38, 41, 44, 46, 47, 51, 52, 53, 56, 58, 59})\n",
            "[-1, 1, -1, 1, -1, 1, -1, 1, 1, -1, -1, 1, 1, 1, -1, 1, 1, -1, 1, -1, 1, 1, -1, 1, -1, 1, 1, -1, 1, -1, 1, -1, -1, -1, 1, -1, 1, 1, -1, 1, 1, -1, 1, 1, -1, 1, -1, -1, 1, 1, 1, -1, -1, -1, 1, 1, -1, 1, -1, -1]\n"
          ]
        },
        {
          "output_type": "stream",
          "name": "stderr",
          "text": [
            "\n",
            "Simulating N=60, S=1.00, C=200fF:  14%|█▍        | 7/50 [00:02<00:17,  2.52it/s]\u001b[A"
          ]
        },
        {
          "output_type": "stream",
          "name": "stdout",
          "text": [
            "Partition: ({1, 3, 5, 7, 9, 11, 13, 15, 17, 19, 21, 23, 25, 27, 29, 31, 33, 35, 37, 39, 41, 43, 45, 47, 51, 53, 54, 55, 57, 58}, {0, 2, 4, 6, 8, 10, 12, 14, 16, 18, 20, 22, 24, 26, 28, 30, 32, 34, 36, 38, 40, 42, 44, 46, 48, 49, 50, 52, 56, 59})\n",
            "[-1, 1, -1, 1, -1, 1, -1, 1, -1, 1, -1, 1, -1, 1, -1, 1, -1, 1, -1, 1, -1, 1, -1, 1, -1, 1, -1, 1, -1, 1, -1, 1, -1, 1, -1, 1, -1, 1, -1, 1, -1, 1, -1, 1, -1, 1, -1, 1, -1, -1, -1, 1, -1, 1, 1, 1, -1, 1, 1, -1]\n"
          ]
        },
        {
          "output_type": "stream",
          "name": "stderr",
          "text": [
            "\n",
            "Simulating N=60, S=1.00, C=200fF:  16%|█▌        | 8/50 [00:03<00:17,  2.41it/s]\u001b[A"
          ]
        },
        {
          "output_type": "stream",
          "name": "stdout",
          "text": [
            "Partition: ({1, 4, 6, 7, 9, 12, 14, 16, 17, 18, 20, 22, 24, 26, 28, 30, 32, 34, 36, 38, 41, 42, 44, 46, 47, 50, 51, 53, 56, 59}, {0, 2, 3, 5, 8, 10, 11, 13, 15, 19, 21, 23, 25, 27, 29, 31, 33, 35, 37, 39, 40, 43, 45, 48, 49, 52, 54, 55, 57, 58})\n",
            "[-1, 1, -1, -1, 1, -1, 1, 1, -1, 1, -1, -1, 1, -1, 1, -1, 1, 1, 1, -1, 1, -1, 1, -1, 1, -1, 1, -1, 1, -1, 1, -1, 1, -1, 1, -1, 1, -1, 1, -1, -1, 1, 1, -1, 1, -1, 1, 1, -1, -1, 1, 1, -1, 1, -1, -1, 1, -1, -1, 1]\n"
          ]
        },
        {
          "output_type": "stream",
          "name": "stderr",
          "text": [
            "\n",
            "Simulating N=60, S=1.00, C=200fF:  18%|█▊        | 9/50 [00:03<00:15,  2.59it/s]\u001b[A"
          ]
        },
        {
          "output_type": "stream",
          "name": "stdout",
          "text": [
            "Partition: ({0, 3, 5, 6, 8, 9, 11, 12, 14, 15, 17, 18, 20, 21, 24, 25, 27, 30, 32, 33, 35, 36, 38, 41, 42, 44, 46, 47, 50, 52, 54, 55, 59}, {1, 2, 4, 7, 10, 13, 16, 19, 22, 23, 26, 28, 29, 31, 34, 37, 39, 40, 43, 45, 48, 49, 51, 53, 56, 57, 58})\n",
            "[1, -1, -1, 1, -1, 1, 1, -1, 1, 1, -1, 1, 1, -1, 1, 1, -1, 1, 1, -1, 1, 1, -1, -1, 1, 1, -1, 1, -1, -1, 1, -1, 1, 1, -1, 1, 1, -1, 1, -1, -1, 1, 1, -1, 1, -1, 1, 1, -1, -1, 1, -1, 1, -1, 1, 1, -1, -1, -1, 1]\n"
          ]
        },
        {
          "output_type": "stream",
          "name": "stderr",
          "text": [
            "\n",
            "Simulating N=60, S=1.00, C=200fF:  20%|██        | 10/50 [00:04<00:16,  2.40it/s]\u001b[A"
          ]
        },
        {
          "output_type": "stream",
          "name": "stdout",
          "text": [
            "Partition: ({0, 2, 5, 8, 10, 12, 13, 14, 16, 18, 19, 22, 24, 26, 27, 28, 30, 32, 34, 36, 38, 40, 42, 44, 46, 48, 51, 55, 56, 57}, {1, 3, 4, 6, 7, 9, 11, 15, 17, 20, 21, 23, 25, 29, 31, 33, 35, 37, 39, 41, 43, 45, 47, 49, 50, 52, 53, 54, 58, 59})\n",
            "[1, -1, 1, -1, -1, 1, -1, -1, 1, -1, 1, -1, 1, 1, 1, -1, 1, -1, 1, 1, -1, -1, 1, -1, 1, -1, 1, 1, 1, -1, 1, -1, 1, -1, 1, -1, 1, -1, 1, -1, 1, -1, 1, -1, 1, -1, 1, -1, 1, -1, -1, 1, -1, -1, -1, 1, 1, 1, -1, -1]\n"
          ]
        },
        {
          "output_type": "stream",
          "name": "stderr",
          "text": [
            "\n",
            "Simulating N=60, S=1.00, C=200fF:  22%|██▏       | 11/50 [00:04<00:17,  2.26it/s]\u001b[A"
          ]
        },
        {
          "output_type": "stream",
          "name": "stdout",
          "text": [
            "Partition: ({1, 3, 5, 7, 10, 13, 15, 18, 19, 21, 23, 25, 27, 29, 31, 33, 35, 37, 38, 39, 41, 43, 44, 46, 48, 50, 51, 52, 54, 57, 58}, {0, 2, 4, 6, 8, 9, 11, 12, 14, 16, 17, 20, 22, 24, 26, 28, 30, 32, 34, 36, 40, 42, 45, 47, 49, 53, 55, 56, 59})\n",
            "[-1, 1, -1, 1, -1, 1, -1, 1, -1, -1, 1, -1, -1, 1, -1, 1, -1, -1, 1, 1, -1, 1, -1, 1, -1, 1, -1, 1, -1, 1, -1, 1, -1, 1, -1, 1, -1, 1, 1, 1, -1, 1, -1, 1, 1, -1, 1, -1, 1, -1, 1, 1, 1, -1, 1, -1, -1, 1, 1, -1]\n"
          ]
        },
        {
          "output_type": "stream",
          "name": "stderr",
          "text": [
            "\n",
            "Simulating N=60, S=1.00, C=200fF:  24%|██▍       | 12/50 [00:05<00:17,  2.18it/s]\u001b[A"
          ]
        },
        {
          "output_type": "stream",
          "name": "stdout",
          "text": [
            "Partition: ({1, 4, 6, 7, 8, 9, 10, 12, 16, 18, 21, 24, 25, 27, 29, 30, 32, 33, 36, 38, 41, 42, 44, 47, 49, 50, 54, 55, 56, 58}, {0, 2, 3, 5, 11, 13, 14, 15, 17, 19, 20, 22, 23, 26, 28, 31, 34, 35, 37, 39, 40, 43, 45, 46, 48, 51, 52, 53, 57, 59})\n",
            "[-1, 1, -1, -1, 1, -1, 1, 1, 1, 1, 1, -1, 1, -1, -1, -1, 1, -1, 1, -1, -1, 1, -1, -1, 1, 1, -1, 1, -1, 1, 1, -1, 1, 1, -1, -1, 1, -1, 1, -1, -1, 1, 1, -1, 1, -1, -1, 1, -1, 1, 1, -1, -1, -1, 1, 1, 1, -1, 1, -1]\n"
          ]
        },
        {
          "output_type": "stream",
          "name": "stderr",
          "text": [
            "\n",
            "Simulating N=60, S=1.00, C=200fF:  26%|██▌       | 13/50 [00:05<00:15,  2.33it/s]\u001b[A"
          ]
        },
        {
          "output_type": "stream",
          "name": "stdout",
          "text": [
            "Partition: ({2, 4, 6, 7, 8, 10, 12, 15, 17, 18, 20, 21, 23, 25, 29, 31, 33, 35, 37, 39, 41, 43, 45, 47, 49, 52, 55, 57, 58, 59}, {0, 1, 3, 5, 9, 11, 13, 14, 16, 19, 22, 24, 26, 27, 28, 30, 32, 34, 36, 38, 40, 42, 44, 46, 48, 50, 51, 53, 54, 56})\n",
            "[-1, -1, 1, -1, 1, -1, 1, 1, 1, -1, 1, -1, 1, -1, -1, 1, -1, 1, 1, -1, 1, 1, -1, 1, -1, 1, -1, -1, -1, 1, -1, 1, -1, 1, -1, 1, -1, 1, -1, 1, -1, 1, -1, 1, -1, 1, -1, 1, -1, 1, -1, -1, 1, -1, -1, 1, -1, 1, 1, 1]\n"
          ]
        },
        {
          "output_type": "stream",
          "name": "stderr",
          "text": [
            "\n",
            "Simulating N=60, S=1.00, C=200fF:  28%|██▊       | 14/50 [00:06<00:20,  1.78it/s]\u001b[A"
          ]
        },
        {
          "output_type": "stream",
          "name": "stdout",
          "text": [
            "Partition: ({1, 3, 4, 6, 7, 9, 12, 16, 18, 20, 22, 24, 26, 28, 30, 32, 34, 35, 40, 41, 43, 45, 47, 51, 55, 56, 59}, {0, 2, 5, 8, 10, 11, 13, 14, 15, 17, 19, 21, 23, 25, 27, 29, 31, 33, 36, 37, 38, 39, 42, 44, 46, 48, 49, 50, 52, 53, 54, 57, 58})\n",
            "[-1, 1, -1, 1, 1, -1, 1, 1, -1, 1, -1, -1, 1, -1, -1, -1, 1, -1, 1, -1, 1, -1, 1, -1, 1, -1, 1, -1, 1, -1, 1, -1, 1, -1, 1, 1, -1, -1, -1, -1, 1, 1, -1, 1, -1, 1, -1, 1, -1, -1, -1, 1, -1, -1, -1, 1, 1, -1, -1, 1]\n"
          ]
        },
        {
          "output_type": "stream",
          "name": "stderr",
          "text": [
            "\n",
            "Simulating N=60, S=1.00, C=200fF:  30%|███       | 15/50 [00:07<00:21,  1.65it/s]\u001b[A"
          ]
        },
        {
          "output_type": "stream",
          "name": "stdout",
          "text": [
            "Partition: ({1, 3, 5, 7, 9, 11, 13, 15, 17, 19, 21, 23, 25, 27, 29, 31, 33, 35, 37, 39, 41, 43, 45, 47, 49, 50, 52, 53, 54, 56, 57}, {0, 2, 4, 6, 8, 10, 12, 14, 16, 18, 20, 22, 24, 26, 28, 30, 32, 34, 36, 38, 40, 42, 44, 46, 48, 51, 55, 58, 59})\n",
            "[-1, 1, -1, 1, -1, 1, -1, 1, -1, 1, -1, 1, -1, 1, -1, 1, -1, 1, -1, 1, -1, 1, -1, 1, -1, 1, -1, 1, -1, 1, -1, 1, -1, 1, -1, 1, -1, 1, -1, 1, -1, 1, -1, 1, -1, 1, -1, 1, -1, 1, 1, -1, 1, 1, 1, -1, 1, 1, -1, -1]\n"
          ]
        },
        {
          "output_type": "stream",
          "name": "stderr",
          "text": [
            "\n",
            "Simulating N=60, S=1.00, C=200fF:  32%|███▏      | 16/50 [00:07<00:21,  1.61it/s]\u001b[A"
          ]
        },
        {
          "output_type": "stream",
          "name": "stdout",
          "text": [
            "Partition: ({1, 3, 5, 8, 10, 11, 13, 14, 16, 18, 19, 22, 24, 27, 28, 30, 32, 36, 38, 40, 42, 44, 46, 48, 50, 52, 57, 58, 59}, {0, 2, 4, 6, 7, 9, 12, 15, 17, 20, 21, 23, 25, 26, 29, 31, 33, 34, 35, 37, 39, 41, 43, 45, 47, 49, 51, 53, 54, 55, 56})\n",
            "[-1, 1, -1, 1, -1, 1, -1, -1, 1, -1, 1, 1, -1, 1, 1, -1, 1, -1, 1, 1, -1, -1, 1, -1, 1, -1, -1, 1, 1, -1, 1, -1, 1, -1, -1, -1, 1, -1, 1, -1, 1, -1, 1, -1, 1, -1, 1, -1, 1, -1, 1, -1, 1, -1, -1, -1, -1, 1, 1, 1]\n"
          ]
        },
        {
          "output_type": "stream",
          "name": "stderr",
          "text": [
            "\n",
            "Simulating N=60, S=1.00, C=200fF:  34%|███▍      | 17/50 [00:08<00:19,  1.70it/s]\u001b[A"
          ]
        },
        {
          "output_type": "stream",
          "name": "stdout",
          "text": [
            "Partition: ({1, 3, 5, 7, 9, 11, 13, 15, 17, 19, 21, 23, 25, 27, 29, 31, 33, 35, 37, 39, 40, 44, 46, 48, 49, 51, 54, 56, 58}, {0, 2, 4, 6, 8, 10, 12, 14, 16, 18, 20, 22, 24, 26, 28, 30, 32, 34, 36, 38, 41, 42, 43, 45, 47, 50, 52, 53, 55, 57, 59})\n",
            "[-1, 1, -1, 1, -1, 1, -1, 1, -1, 1, -1, 1, -1, 1, -1, 1, -1, 1, -1, 1, -1, 1, -1, 1, -1, 1, -1, 1, -1, 1, -1, 1, -1, 1, -1, 1, -1, 1, -1, 1, 1, -1, -1, -1, 1, -1, 1, -1, 1, 1, -1, 1, -1, -1, 1, -1, 1, -1, 1, -1]\n"
          ]
        },
        {
          "output_type": "stream",
          "name": "stderr",
          "text": [
            "\n",
            "Simulating N=60, S=1.00, C=200fF:  36%|███▌      | 18/50 [00:08<00:18,  1.72it/s]\u001b[A"
          ]
        },
        {
          "output_type": "stream",
          "name": "stdout",
          "text": [
            "Partition: ({1, 3, 5, 7, 9, 11, 13, 15, 17, 19, 21, 23, 25, 27, 28, 30, 31, 34, 36, 38, 40, 42, 44, 46, 48, 50, 52, 53, 54, 55, 57, 58}, {0, 2, 4, 6, 8, 10, 12, 14, 16, 18, 20, 22, 24, 26, 29, 32, 33, 35, 37, 39, 41, 43, 45, 47, 49, 51, 56, 59})\n",
            "[-1, 1, -1, 1, -1, 1, -1, 1, -1, 1, -1, 1, -1, 1, -1, 1, -1, 1, -1, 1, -1, 1, -1, 1, -1, 1, -1, 1, 1, -1, 1, 1, -1, -1, 1, -1, 1, -1, 1, -1, 1, -1, 1, -1, 1, -1, 1, -1, 1, -1, 1, -1, 1, 1, 1, 1, -1, 1, 1, -1]\n"
          ]
        },
        {
          "output_type": "stream",
          "name": "stderr",
          "text": [
            "\n",
            "Simulating N=60, S=1.00, C=200fF:  38%|███▊      | 19/50 [00:09<00:16,  1.83it/s]\u001b[A"
          ]
        },
        {
          "output_type": "stream",
          "name": "stdout",
          "text": [
            "Partition: ({1, 3, 5, 7, 9, 11, 13, 15, 17, 19, 21, 23, 25, 27, 28, 29, 31, 34, 36, 38, 40, 42, 44, 46, 48, 49, 50, 52, 53, 55, 57, 58}, {0, 2, 4, 6, 8, 10, 12, 14, 16, 18, 20, 22, 24, 26, 30, 32, 33, 35, 37, 39, 41, 43, 45, 47, 51, 54, 56, 59})\n",
            "[-1, 1, -1, 1, -1, 1, -1, 1, -1, 1, -1, 1, -1, 1, -1, 1, -1, 1, -1, 1, -1, 1, -1, 1, -1, 1, -1, 1, 1, 1, -1, 1, -1, -1, 1, -1, 1, -1, 1, -1, 1, -1, 1, -1, 1, -1, 1, -1, 1, 1, 1, -1, 1, 1, -1, 1, -1, 1, 1, -1]\n"
          ]
        },
        {
          "output_type": "stream",
          "name": "stderr",
          "text": [
            "\n",
            "Simulating N=60, S=1.00, C=200fF:  40%|████      | 20/50 [00:09<00:14,  2.04it/s]\u001b[A"
          ]
        },
        {
          "output_type": "stream",
          "name": "stdout",
          "text": [
            "Partition: ({1, 3, 4, 6, 7, 9, 12, 15, 17, 18, 20, 21, 23, 25, 29, 30, 31, 33, 35, 36, 38, 39, 41, 43, 45, 47, 49, 50, 51, 56, 58}, {0, 2, 5, 8, 10, 11, 13, 14, 16, 19, 22, 24, 26, 27, 28, 32, 34, 37, 40, 42, 44, 46, 48, 52, 53, 54, 55, 57, 59})\n",
            "[-1, 1, -1, 1, 1, -1, 1, 1, -1, 1, -1, -1, 1, -1, -1, 1, -1, 1, 1, -1, 1, 1, -1, 1, -1, 1, -1, -1, -1, 1, 1, 1, -1, 1, -1, 1, 1, -1, 1, 1, -1, 1, -1, 1, -1, 1, -1, 1, -1, 1, 1, 1, -1, -1, -1, -1, 1, -1, 1, -1]\n"
          ]
        },
        {
          "output_type": "stream",
          "name": "stderr",
          "text": [
            "\n",
            "Simulating N=60, S=1.00, C=200fF:  42%|████▏     | 21/50 [00:09<00:13,  2.12it/s]\u001b[A"
          ]
        },
        {
          "output_type": "stream",
          "name": "stdout",
          "text": [
            "Partition: ({1, 3, 5, 7, 9, 11, 13, 15, 17, 19, 21, 23, 25, 27, 29, 31, 33, 35, 37, 39, 41, 43, 45, 47, 49, 50, 52, 53, 54, 55, 58, 59}, {0, 2, 4, 6, 8, 10, 12, 14, 16, 18, 20, 22, 24, 26, 28, 30, 32, 34, 36, 38, 40, 42, 44, 46, 48, 51, 56, 57})\n",
            "[-1, 1, -1, 1, -1, 1, -1, 1, -1, 1, -1, 1, -1, 1, -1, 1, -1, 1, -1, 1, -1, 1, -1, 1, -1, 1, -1, 1, -1, 1, -1, 1, -1, 1, -1, 1, -1, 1, -1, 1, -1, 1, -1, 1, -1, 1, -1, 1, -1, 1, 1, -1, 1, 1, 1, 1, -1, -1, 1, 1]\n"
          ]
        },
        {
          "output_type": "stream",
          "name": "stderr",
          "text": [
            "\n",
            "Simulating N=60, S=1.00, C=200fF:  44%|████▍     | 22/50 [00:10<00:12,  2.24it/s]\u001b[A"
          ]
        },
        {
          "output_type": "stream",
          "name": "stdout",
          "text": [
            "Partition: ({0, 2, 4, 6, 8, 10, 12, 14, 16, 18, 20, 22, 24, 25, 28, 30, 34, 36, 37, 38, 39, 40, 43, 45, 48, 51, 52, 53, 54, 56, 58}, {1, 3, 5, 7, 9, 11, 13, 15, 17, 19, 21, 23, 26, 27, 29, 31, 32, 33, 35, 41, 42, 44, 46, 47, 49, 50, 55, 57, 59})\n",
            "[1, -1, 1, -1, 1, -1, 1, -1, 1, -1, 1, -1, 1, -1, 1, -1, 1, -1, 1, -1, 1, -1, 1, -1, 1, 1, -1, -1, 1, -1, 1, -1, -1, -1, 1, -1, 1, 1, 1, 1, 1, -1, -1, 1, -1, 1, -1, -1, 1, -1, -1, 1, 1, 1, 1, -1, 1, -1, 1, -1]\n"
          ]
        },
        {
          "output_type": "stream",
          "name": "stderr",
          "text": [
            "\n",
            "Simulating N=60, S=1.00, C=200fF:  46%|████▌     | 23/50 [00:10<00:11,  2.26it/s]\u001b[A"
          ]
        },
        {
          "output_type": "stream",
          "name": "stdout",
          "text": [
            "Partition: ({1, 3, 5, 7, 9, 10, 12, 15, 17, 18, 20, 21, 22, 23, 26, 28, 30, 32, 34, 36, 38, 41, 42, 44, 46, 47, 49, 50, 51, 52, 59}, {0, 2, 4, 6, 8, 11, 13, 14, 16, 19, 24, 25, 27, 29, 31, 33, 35, 37, 39, 40, 43, 45, 48, 53, 54, 55, 56, 57, 58})\n",
            "[-1, 1, -1, 1, -1, 1, -1, 1, -1, 1, 1, -1, 1, -1, -1, 1, -1, 1, 1, -1, 1, 1, 1, 1, -1, -1, 1, -1, 1, -1, 1, -1, 1, -1, 1, -1, 1, -1, 1, -1, -1, 1, 1, -1, 1, -1, 1, 1, -1, 1, 1, 1, 1, -1, -1, -1, -1, -1, -1, 1]\n"
          ]
        },
        {
          "output_type": "stream",
          "name": "stderr",
          "text": [
            "\n",
            "Simulating N=60, S=1.00, C=200fF:  48%|████▊     | 24/50 [00:11<00:15,  1.73it/s]\u001b[A"
          ]
        },
        {
          "output_type": "stream",
          "name": "stdout",
          "text": [
            "Partition: ({0, 2, 4, 6, 9, 11, 13, 15, 17, 19, 21, 23, 24, 25, 28, 29, 30, 32, 34, 37, 38, 40, 42, 44, 46, 48, 50, 51, 52, 56, 59}, {1, 3, 5, 7, 8, 10, 12, 14, 16, 18, 20, 22, 26, 27, 31, 33, 35, 36, 39, 41, 43, 45, 47, 49, 53, 54, 55, 57, 58})\n",
            "[1, -1, 1, -1, 1, -1, 1, -1, -1, 1, -1, 1, -1, 1, -1, 1, -1, 1, -1, 1, -1, 1, -1, 1, 1, 1, -1, -1, 1, 1, 1, -1, 1, -1, 1, -1, -1, 1, 1, -1, 1, -1, 1, -1, 1, -1, 1, -1, 1, -1, 1, 1, 1, -1, -1, -1, 1, -1, -1, 1]\n"
          ]
        },
        {
          "output_type": "stream",
          "name": "stderr",
          "text": [
            "\n",
            "Simulating N=60, S=1.00, C=200fF:  50%|█████     | 25/50 [00:12<00:13,  1.87it/s]\u001b[A"
          ]
        },
        {
          "output_type": "stream",
          "name": "stdout",
          "text": [
            "Partition: ({0, 2, 4, 6, 8, 10, 12, 14, 16, 18, 20, 22, 24, 26, 28, 30, 32, 36, 38, 41, 42, 44, 47, 50, 51, 52, 54, 55, 56, 58}, {1, 3, 5, 7, 9, 11, 13, 15, 17, 19, 21, 23, 25, 27, 29, 31, 33, 34, 35, 37, 39, 40, 43, 45, 46, 48, 49, 53, 57, 59})\n",
            "[1, -1, 1, -1, 1, -1, 1, -1, 1, -1, 1, -1, 1, -1, 1, -1, 1, -1, 1, -1, 1, -1, 1, -1, 1, -1, 1, -1, 1, -1, 1, -1, 1, -1, -1, -1, 1, -1, 1, -1, -1, 1, 1, -1, 1, -1, -1, 1, -1, -1, 1, 1, 1, -1, 1, 1, 1, -1, 1, -1]\n"
          ]
        },
        {
          "output_type": "stream",
          "name": "stderr",
          "text": [
            "\n",
            "Simulating N=60, S=1.00, C=200fF:  52%|█████▏    | 26/50 [00:12<00:11,  2.09it/s]\u001b[A"
          ]
        },
        {
          "output_type": "stream",
          "name": "stdout",
          "text": [
            "Partition: ({1, 3, 5, 7, 9, 11, 13, 15, 17, 20, 21, 23, 24, 26, 28, 29, 30, 32, 34, 36, 38, 40, 42, 44, 46, 48, 49, 50, 51, 54, 56, 58, 59}, {0, 2, 4, 6, 8, 10, 12, 14, 16, 18, 19, 22, 25, 27, 31, 33, 35, 37, 39, 41, 43, 45, 47, 52, 53, 55, 57})\n",
            "[-1, 1, -1, 1, -1, 1, -1, 1, -1, 1, -1, 1, -1, 1, -1, 1, -1, 1, -1, -1, 1, 1, -1, 1, 1, -1, 1, -1, 1, 1, 1, -1, 1, -1, 1, -1, 1, -1, 1, -1, 1, -1, 1, -1, 1, -1, 1, -1, 1, 1, 1, 1, -1, -1, 1, -1, 1, -1, 1, 1]\n"
          ]
        },
        {
          "output_type": "stream",
          "name": "stderr",
          "text": [
            "\n",
            "Simulating N=60, S=1.00, C=200fF:  54%|█████▍    | 27/50 [00:12<00:09,  2.32it/s]\u001b[A"
          ]
        },
        {
          "output_type": "stream",
          "name": "stdout",
          "text": [
            "Partition: ({1, 2, 4, 6, 7, 10, 12, 15, 16, 18, 20, 21, 24, 26, 29, 31, 32, 34, 35, 37, 40, 43, 45, 48, 51, 52, 55, 57, 58}, {0, 3, 5, 8, 9, 11, 13, 14, 17, 19, 22, 23, 25, 27, 28, 30, 33, 36, 38, 39, 41, 42, 44, 46, 47, 49, 50, 53, 54, 56, 59})\n",
            "[-1, 1, 1, -1, 1, -1, 1, 1, -1, -1, 1, -1, 1, -1, -1, 1, 1, -1, 1, -1, 1, 1, -1, -1, 1, -1, 1, -1, -1, 1, -1, 1, 1, -1, 1, 1, -1, 1, -1, -1, 1, -1, -1, 1, -1, 1, -1, -1, 1, -1, -1, 1, 1, -1, -1, 1, -1, 1, 1, -1]\n"
          ]
        },
        {
          "output_type": "stream",
          "name": "stderr",
          "text": [
            "\n",
            "Simulating N=60, S=1.00, C=200fF:  56%|█████▌    | 28/50 [00:13<00:08,  2.53it/s]\u001b[A"
          ]
        },
        {
          "output_type": "stream",
          "name": "stdout",
          "text": [
            "Partition: ({1, 3, 4, 6, 7, 9, 12, 15, 17, 18, 20, 21, 24, 26, 30, 33, 34, 36, 38, 39, 42, 44, 48, 49, 50, 52, 58, 59}, {0, 2, 5, 8, 10, 11, 13, 14, 16, 19, 22, 23, 25, 27, 28, 29, 31, 32, 35, 37, 40, 41, 43, 45, 46, 47, 51, 53, 54, 55, 56, 57})\n",
            "[-1, 1, -1, 1, 1, -1, 1, 1, -1, 1, -1, -1, 1, -1, -1, 1, -1, 1, 1, -1, 1, 1, -1, -1, 1, -1, 1, -1, -1, -1, 1, -1, -1, 1, 1, -1, 1, -1, 1, 1, -1, -1, 1, -1, 1, -1, -1, -1, 1, 1, 1, -1, 1, -1, -1, -1, -1, -1, 1, 1]\n"
          ]
        },
        {
          "output_type": "stream",
          "name": "stderr",
          "text": [
            "\n",
            "Simulating N=60, S=1.00, C=200fF:  58%|█████▊    | 29/50 [00:13<00:08,  2.42it/s]\u001b[A"
          ]
        },
        {
          "output_type": "stream",
          "name": "stdout",
          "text": [
            "Partition: ({0, 2, 5, 6, 8, 10, 11, 12, 14, 16, 18, 21, 22, 25, 27, 29, 31, 33, 35, 37, 39, 41, 43, 45, 47, 49, 50, 51, 53, 55, 57, 58}, {1, 3, 4, 7, 9, 13, 15, 17, 19, 20, 23, 24, 26, 28, 30, 32, 34, 36, 38, 40, 42, 44, 46, 48, 52, 54, 56, 59})\n",
            "[1, -1, 1, -1, -1, 1, 1, -1, 1, -1, 1, 1, 1, -1, 1, -1, 1, -1, 1, -1, -1, 1, 1, -1, -1, 1, -1, 1, -1, 1, -1, 1, -1, 1, -1, 1, -1, 1, -1, 1, -1, 1, -1, 1, -1, 1, -1, 1, -1, 1, 1, 1, -1, 1, -1, 1, -1, 1, 1, -1]\n"
          ]
        },
        {
          "output_type": "stream",
          "name": "stderr",
          "text": [
            "\n",
            "Simulating N=60, S=1.00, C=200fF:  60%|██████    | 30/50 [00:14<00:08,  2.30it/s]\u001b[A"
          ]
        },
        {
          "output_type": "stream",
          "name": "stdout",
          "text": [
            "Partition: ({0, 2, 4, 6, 8, 10, 12, 14, 16, 21, 23, 25, 27, 29, 31, 33, 35, 37, 39, 41, 43, 45, 47, 50, 52, 56, 57, 58}, {1, 3, 5, 7, 9, 11, 13, 15, 17, 18, 19, 20, 22, 24, 26, 28, 30, 32, 34, 36, 38, 40, 42, 44, 46, 48, 49, 51, 53, 54, 55, 59})\n",
            "[1, -1, 1, -1, 1, -1, 1, -1, 1, -1, 1, -1, 1, -1, 1, -1, 1, -1, -1, -1, -1, 1, -1, 1, -1, 1, -1, 1, -1, 1, -1, 1, -1, 1, -1, 1, -1, 1, -1, 1, -1, 1, -1, 1, -1, 1, -1, 1, -1, -1, 1, -1, 1, -1, -1, -1, 1, 1, 1, -1]\n"
          ]
        },
        {
          "output_type": "stream",
          "name": "stderr",
          "text": [
            "\n",
            "Simulating N=60, S=1.00, C=200fF:  62%|██████▏   | 31/50 [00:14<00:08,  2.24it/s]\u001b[A"
          ]
        },
        {
          "output_type": "stream",
          "name": "stdout",
          "text": [
            "Partition: ({0, 2, 4, 6, 8, 10, 12, 14, 15, 18, 20, 23, 24, 26, 28, 32, 34, 36, 37, 38, 40, 42, 46, 48, 49, 50, 52, 55, 56, 57, 58, 59}, {1, 3, 5, 7, 9, 11, 13, 16, 17, 19, 21, 22, 25, 27, 29, 30, 31, 33, 35, 39, 41, 43, 44, 45, 47, 51, 53, 54})\n",
            "[1, -1, 1, -1, 1, -1, 1, -1, 1, -1, 1, -1, 1, -1, 1, 1, -1, -1, 1, -1, 1, -1, -1, 1, 1, -1, 1, -1, 1, -1, -1, -1, 1, -1, 1, -1, 1, 1, 1, -1, 1, -1, 1, -1, -1, -1, 1, -1, 1, 1, 1, -1, 1, -1, -1, 1, 1, 1, 1, 1]\n"
          ]
        },
        {
          "output_type": "stream",
          "name": "stderr",
          "text": [
            "\n",
            "Simulating N=60, S=1.00, C=200fF:  64%|██████▍   | 32/50 [00:15<00:09,  1.91it/s]\u001b[A"
          ]
        },
        {
          "output_type": "stream",
          "name": "stdout",
          "text": [
            "Partition: ({1, 3, 5, 7, 9, 11, 13, 15, 17, 19, 21, 25, 27, 28, 29, 30, 33, 38, 41, 42, 43, 45, 47, 49, 51, 53, 54, 55, 58, 59}, {0, 2, 4, 6, 8, 10, 12, 14, 16, 18, 20, 22, 23, 24, 26, 31, 32, 34, 35, 36, 37, 39, 40, 44, 46, 48, 50, 52, 56, 57})\n",
            "[-1, 1, -1, 1, -1, 1, -1, 1, -1, 1, -1, 1, -1, 1, -1, 1, -1, 1, -1, 1, -1, 1, -1, -1, -1, 1, -1, 1, 1, 1, 1, -1, -1, 1, -1, -1, -1, -1, 1, -1, -1, 1, 1, 1, -1, 1, -1, 1, -1, 1, -1, 1, -1, 1, 1, 1, -1, -1, 1, 1]\n"
          ]
        },
        {
          "output_type": "stream",
          "name": "stderr",
          "text": [
            "\n",
            "Simulating N=60, S=1.00, C=200fF:  66%|██████▌   | 33/50 [00:15<00:09,  1.82it/s]\u001b[A"
          ]
        },
        {
          "output_type": "stream",
          "name": "stdout",
          "text": [
            "Partition: ({0, 1, 3, 5, 8, 9, 11, 12, 13, 14, 16, 17, 20, 22, 26, 28, 30, 32, 34, 35, 36, 38, 40, 42, 44, 46, 48, 51, 53, 54, 55, 56, 57, 58, 59}, {2, 4, 6, 7, 10, 15, 18, 19, 21, 23, 24, 25, 27, 29, 31, 33, 37, 39, 41, 43, 45, 47, 49, 50, 52})\n",
            "[1, 1, -1, 1, -1, 1, -1, -1, 1, 1, -1, 1, 1, 1, 1, -1, 1, 1, -1, -1, 1, -1, 1, -1, -1, -1, 1, -1, 1, -1, 1, -1, 1, -1, 1, 1, 1, -1, 1, -1, 1, -1, 1, -1, 1, -1, 1, -1, 1, -1, -1, 1, -1, 1, 1, 1, 1, 1, 1, 1]\n"
          ]
        },
        {
          "output_type": "stream",
          "name": "stderr",
          "text": [
            "\n",
            "Simulating N=60, S=1.00, C=200fF:  68%|██████▊   | 34/50 [00:16<00:08,  1.97it/s]\u001b[A"
          ]
        },
        {
          "output_type": "stream",
          "name": "stdout",
          "text": [
            "Partition: ({1, 3, 5, 7, 9, 11, 13, 15, 17, 19, 21, 23, 25, 27, 29, 31, 33, 35, 37, 39, 41, 43, 45, 47, 51, 54, 56}, {0, 2, 4, 6, 8, 10, 12, 14, 16, 18, 20, 22, 24, 26, 28, 30, 32, 34, 36, 38, 40, 42, 44, 46, 48, 49, 50, 52, 53, 55, 57, 58, 59})\n",
            "[-1, 1, -1, 1, -1, 1, -1, 1, -1, 1, -1, 1, -1, 1, -1, 1, -1, 1, -1, 1, -1, 1, -1, 1, -1, 1, -1, 1, -1, 1, -1, 1, -1, 1, -1, 1, -1, 1, -1, 1, -1, 1, -1, 1, -1, 1, -1, 1, -1, -1, -1, 1, -1, -1, 1, -1, 1, -1, -1, -1]\n"
          ]
        },
        {
          "output_type": "stream",
          "name": "stderr",
          "text": [
            "\n",
            "Simulating N=60, S=1.00, C=200fF:  70%|███████   | 35/50 [00:16<00:06,  2.16it/s]\u001b[A"
          ]
        },
        {
          "output_type": "stream",
          "name": "stdout",
          "text": [
            "Partition: ({0, 2, 4, 5, 8, 10, 11, 13, 14, 15, 17, 19, 21, 23, 25, 27, 29, 31, 33, 35, 37, 39, 41, 43, 45, 47, 50, 51, 58}, {1, 3, 6, 7, 9, 12, 16, 18, 20, 22, 24, 26, 28, 30, 32, 34, 36, 38, 40, 42, 44, 46, 48, 49, 52, 53, 54, 55, 56, 57, 59})\n",
            "[1, -1, 1, -1, 1, 1, -1, -1, 1, -1, 1, 1, -1, 1, 1, 1, -1, 1, -1, 1, -1, 1, -1, 1, -1, 1, -1, 1, -1, 1, -1, 1, -1, 1, -1, 1, -1, 1, -1, 1, -1, 1, -1, 1, -1, 1, -1, 1, -1, -1, 1, 1, -1, -1, -1, -1, -1, -1, 1, -1]\n"
          ]
        },
        {
          "output_type": "stream",
          "name": "stderr",
          "text": [
            "\n",
            "Simulating N=60, S=1.00, C=200fF:  72%|███████▏  | 36/50 [00:17<00:06,  2.23it/s]\u001b[A"
          ]
        },
        {
          "output_type": "stream",
          "name": "stdout",
          "text": [
            "Partition: ({1, 3, 5, 7, 9, 11, 13, 16, 17, 19, 21, 25, 27, 29, 31, 33, 35, 36, 38, 40, 42, 44, 47, 49, 50, 53, 54, 56, 59}, {0, 2, 4, 6, 8, 10, 12, 14, 15, 18, 20, 22, 23, 24, 26, 28, 30, 32, 34, 37, 39, 41, 43, 45, 46, 48, 51, 52, 55, 57, 58})\n",
            "[-1, 1, -1, 1, -1, 1, -1, 1, -1, 1, -1, 1, -1, 1, -1, -1, 1, 1, -1, 1, -1, 1, -1, -1, -1, 1, -1, 1, -1, 1, -1, 1, -1, 1, -1, 1, 1, -1, 1, -1, 1, -1, 1, -1, 1, -1, -1, 1, -1, 1, 1, -1, -1, 1, 1, -1, 1, -1, -1, 1]\n"
          ]
        },
        {
          "output_type": "stream",
          "name": "stderr",
          "text": [
            "\n",
            "Simulating N=60, S=1.00, C=200fF:  74%|███████▍  | 37/50 [00:17<00:05,  2.49it/s]\u001b[A\n",
            "Simulating N=60, S=1.00, C=200fF:  76%|███████▌  | 38/50 [00:17<00:03,  3.01it/s]\u001b[A"
          ]
        },
        {
          "output_type": "stream",
          "name": "stdout",
          "text": [
            "Partition: ({0, 2, 3, 5, 8, 11, 13, 14, 17, 19, 22, 25, 27, 28, 30, 31, 33, 39, 41, 43, 45, 47, 49, 50, 51, 52, 53, 56, 58, 59}, {1, 4, 6, 7, 9, 10, 12, 15, 16, 18, 20, 21, 23, 24, 26, 29, 32, 34, 35, 36, 37, 38, 40, 42, 44, 46, 48, 54, 55, 57})\n",
            "[1, -1, 1, 1, -1, 1, -1, -1, 1, -1, -1, 1, -1, 1, 1, -1, -1, 1, -1, 1, -1, -1, 1, -1, -1, 1, -1, 1, 1, -1, 1, 1, -1, 1, -1, -1, -1, -1, -1, 1, -1, 1, -1, 1, -1, 1, -1, 1, -1, 1, 1, 1, 1, 1, -1, -1, 1, -1, 1, 1]\n",
            "Partition: ({1, 4, 6, 7, 9, 10, 12, 14, 16, 18, 20, 22, 24, 26, 28, 30, 32, 34, 36, 38, 40, 42, 44, 46, 48, 49, 54, 55, 57, 59}, {0, 2, 3, 5, 8, 11, 13, 15, 17, 19, 21, 23, 25, 27, 29, 31, 33, 35, 37, 39, 41, 43, 45, 47, 50, 51, 52, 53, 56, 58})\n",
            "[-1, 1, -1, -1, 1, -1, 1, 1, -1, 1, 1, -1, 1, -1, 1, -1, 1, -1, 1, -1, 1, -1, 1, -1, 1, -1, 1, -1, 1, -1, 1, -1, 1, -1, 1, -1, 1, -1, 1, -1, 1, -1, 1, -1, 1, -1, 1, -1, 1, 1, -1, -1, -1, -1, 1, 1, -1, 1, -1, 1]\n"
          ]
        },
        {
          "output_type": "stream",
          "name": "stderr",
          "text": [
            "\n",
            "Simulating N=60, S=1.00, C=200fF:  78%|███████▊  | 39/50 [00:17<00:03,  3.51it/s]\u001b[A"
          ]
        },
        {
          "output_type": "stream",
          "name": "stdout",
          "text": [
            "Partition: ({0, 3, 5, 8, 9, 11, 13, 14, 15, 17, 19, 22, 23, 25, 27, 28, 31, 33, 35, 37, 39, 41, 43, 45, 47, 49, 50, 51, 52, 57, 58}, {1, 2, 4, 6, 7, 10, 12, 16, 18, 20, 21, 24, 26, 29, 30, 32, 34, 36, 38, 40, 42, 44, 46, 48, 53, 54, 55, 56, 59})\n",
            "[1, -1, -1, 1, -1, 1, -1, -1, 1, 1, -1, 1, -1, 1, 1, 1, -1, 1, -1, 1, -1, -1, 1, 1, -1, 1, -1, 1, 1, -1, -1, 1, -1, 1, -1, 1, -1, 1, -1, 1, -1, 1, -1, 1, -1, 1, -1, 1, -1, 1, 1, 1, 1, -1, -1, -1, -1, 1, 1, -1]\n"
          ]
        },
        {
          "output_type": "stream",
          "name": "stderr",
          "text": [
            "\n",
            "Simulating N=60, S=1.00, C=200fF:  80%|████████  | 40/50 [00:17<00:02,  3.81it/s]\u001b[A\n",
            "Simulating N=60, S=1.00, C=200fF:  82%|████████▏ | 41/50 [00:18<00:02,  4.21it/s]\u001b[A"
          ]
        },
        {
          "output_type": "stream",
          "name": "stdout",
          "text": [
            "Partition: ({0, 2, 4, 6, 8, 9, 12, 13, 14, 15, 17, 19, 21, 23, 25, 27, 29, 31, 33, 35, 37, 39, 41, 43, 45, 47, 49, 50, 51, 52, 53, 55, 58, 59}, {1, 3, 5, 7, 10, 11, 16, 18, 20, 22, 24, 26, 28, 30, 32, 34, 36, 38, 40, 42, 44, 46, 48, 54, 56, 57})\n",
            "[1, -1, 1, -1, 1, -1, 1, -1, 1, 1, -1, -1, 1, 1, 1, 1, -1, 1, -1, 1, -1, 1, -1, 1, -1, 1, -1, 1, -1, 1, -1, 1, -1, 1, -1, 1, -1, 1, -1, 1, -1, 1, -1, 1, -1, 1, -1, 1, -1, 1, 1, 1, 1, 1, -1, 1, -1, -1, 1, 1]\n",
            "Partition: ({1, 3, 4, 7, 9, 10, 12, 13, 14, 15, 18, 22, 23, 24, 27, 28, 29, 32, 33, 37, 38, 41, 42, 43, 46, 47, 50, 52, 54, 56, 58}, {0, 2, 5, 6, 8, 11, 16, 17, 19, 20, 21, 25, 26, 30, 31, 34, 35, 36, 39, 40, 44, 45, 48, 49, 51, 53, 55, 57, 59})\n",
            "[-1, 1, -1, 1, 1, -1, -1, 1, -1, 1, 1, -1, 1, 1, 1, 1, -1, -1, 1, -1, -1, -1, 1, 1, 1, -1, -1, 1, 1, 1, -1, -1, 1, 1, -1, -1, -1, 1, 1, -1, -1, 1, 1, 1, -1, -1, 1, 1, -1, -1, 1, -1, 1, -1, 1, -1, 1, -1, 1, -1]\n"
          ]
        },
        {
          "output_type": "stream",
          "name": "stderr",
          "text": [
            "\n",
            "Simulating N=60, S=1.00, C=200fF:  84%|████████▍ | 42/50 [00:18<00:01,  4.45it/s]\u001b[A\n",
            "Simulating N=60, S=1.00, C=200fF:  86%|████████▌ | 43/50 [00:18<00:01,  4.73it/s]\u001b[A"
          ]
        },
        {
          "output_type": "stream",
          "name": "stdout",
          "text": [
            "Partition: ({0, 2, 4, 6, 8, 10, 12, 14, 16, 18, 20, 22, 24, 26, 30, 32, 34, 35, 38, 43, 44, 46, 47, 49, 50, 51, 57}, {1, 3, 5, 7, 9, 11, 13, 15, 17, 19, 21, 23, 25, 27, 28, 29, 31, 33, 36, 37, 39, 40, 41, 42, 45, 48, 52, 53, 54, 55, 56, 58, 59})\n",
            "[1, -1, 1, -1, 1, -1, 1, -1, 1, -1, 1, -1, 1, -1, 1, -1, 1, -1, 1, -1, 1, -1, 1, -1, 1, -1, 1, -1, -1, -1, 1, -1, 1, -1, 1, 1, -1, -1, 1, -1, -1, -1, -1, 1, 1, -1, 1, 1, -1, 1, 1, 1, -1, -1, -1, -1, -1, 1, -1, -1]\n",
            "Partition: ({0, 2, 4, 6, 8, 10, 12, 13, 14, 16, 18, 22, 24, 27, 28, 31, 33, 36, 37, 39, 41, 42, 43, 45, 47, 49, 50, 52, 54, 57, 58}, {1, 3, 5, 7, 9, 11, 15, 17, 19, 20, 21, 23, 25, 26, 29, 30, 32, 34, 35, 38, 40, 44, 46, 48, 51, 53, 55, 56, 59})\n",
            "[1, -1, 1, -1, 1, -1, 1, -1, 1, -1, 1, -1, 1, 1, 1, -1, 1, -1, 1, -1, -1, -1, 1, -1, 1, -1, -1, 1, 1, -1, -1, 1, -1, 1, -1, -1, 1, 1, -1, 1, -1, 1, 1, 1, -1, 1, -1, 1, -1, 1, 1, -1, 1, -1, 1, -1, -1, 1, 1, -1]\n"
          ]
        },
        {
          "output_type": "stream",
          "name": "stderr",
          "text": [
            "\n",
            "Simulating N=60, S=1.00, C=200fF:  88%|████████▊ | 44/50 [00:18<00:01,  4.46it/s]\u001b[A"
          ]
        },
        {
          "output_type": "stream",
          "name": "stdout",
          "text": [
            "Partition: ({1, 3, 5, 7, 9, 11, 13, 14, 15, 17, 19, 22, 23, 25, 27, 28, 31, 33, 36, 39, 41, 42, 44, 47, 50, 53, 56, 58, 59}, {0, 2, 4, 6, 8, 10, 12, 16, 18, 20, 21, 24, 26, 29, 30, 32, 34, 35, 37, 38, 40, 43, 45, 46, 48, 49, 51, 52, 54, 55, 57})\n",
            "[-1, 1, -1, 1, -1, 1, -1, 1, -1, 1, -1, 1, -1, 1, 1, 1, -1, 1, -1, 1, -1, -1, 1, 1, -1, 1, -1, 1, 1, -1, -1, 1, -1, 1, -1, -1, 1, -1, -1, 1, -1, 1, 1, -1, 1, -1, -1, 1, -1, -1, 1, -1, -1, 1, -1, -1, 1, -1, 1, 1]\n"
          ]
        },
        {
          "output_type": "stream",
          "name": "stderr",
          "text": [
            "\n",
            "Simulating N=60, S=1.00, C=200fF:  90%|█████████ | 45/50 [00:18<00:01,  3.99it/s]\u001b[A"
          ]
        },
        {
          "output_type": "stream",
          "name": "stdout",
          "text": [
            "Partition: ({1, 3, 5, 7, 9, 11, 13, 15, 17, 19, 21, 23, 25, 27, 29, 31, 33, 35, 37, 39, 41, 43, 44, 46, 50, 54, 55, 58}, {0, 2, 4, 6, 8, 10, 12, 14, 16, 18, 20, 22, 24, 26, 28, 30, 32, 34, 36, 38, 40, 42, 45, 47, 48, 49, 51, 52, 53, 56, 57, 59})\n",
            "[-1, 1, -1, 1, -1, 1, -1, 1, -1, 1, -1, 1, -1, 1, -1, 1, -1, 1, -1, 1, -1, 1, -1, 1, -1, 1, -1, 1, -1, 1, -1, 1, -1, 1, -1, 1, -1, 1, -1, 1, -1, 1, -1, 1, 1, -1, 1, -1, -1, -1, 1, -1, -1, -1, 1, 1, -1, -1, 1, -1]\n"
          ]
        },
        {
          "output_type": "stream",
          "name": "stderr",
          "text": [
            "\n",
            "Simulating N=60, S=1.00, C=200fF:  92%|█████████▏| 46/50 [00:19<00:01,  3.91it/s]\u001b[A"
          ]
        },
        {
          "output_type": "stream",
          "name": "stdout",
          "text": [
            "Partition: ({0, 2, 4, 6, 8, 10, 12, 14, 16, 18, 20, 22, 24, 26, 28, 30, 32, 33, 36, 38, 41, 42, 44, 47, 49, 52, 53, 57, 58}, {1, 3, 5, 7, 9, 11, 13, 15, 17, 19, 21, 23, 25, 27, 29, 31, 34, 35, 37, 39, 40, 43, 45, 46, 48, 50, 51, 54, 55, 56, 59})\n",
            "[1, -1, 1, -1, 1, -1, 1, -1, 1, -1, 1, -1, 1, -1, 1, -1, 1, -1, 1, -1, 1, -1, 1, -1, 1, -1, 1, -1, 1, -1, 1, -1, 1, 1, -1, -1, 1, -1, 1, -1, -1, 1, 1, -1, 1, -1, -1, 1, -1, 1, -1, -1, 1, 1, -1, -1, -1, 1, 1, -1]\n"
          ]
        },
        {
          "output_type": "stream",
          "name": "stderr",
          "text": [
            "\n",
            "Simulating N=60, S=1.00, C=200fF:  94%|█████████▍| 47/50 [00:19<00:00,  3.71it/s]\u001b[A"
          ]
        },
        {
          "output_type": "stream",
          "name": "stdout",
          "text": [
            "Partition: ({0, 2, 4, 6, 8, 10, 12, 14, 16, 18, 20, 22, 24, 26, 29, 31, 34, 35, 37, 40, 43, 45, 46, 48, 49, 50, 51, 52, 57, 58}, {1, 3, 5, 7, 9, 11, 13, 15, 17, 19, 21, 23, 25, 27, 28, 30, 32, 33, 36, 38, 39, 41, 42, 44, 47, 53, 54, 55, 56, 59})\n",
            "[1, -1, 1, -1, 1, -1, 1, -1, 1, -1, 1, -1, 1, -1, 1, -1, 1, -1, 1, -1, 1, -1, 1, -1, 1, -1, 1, -1, -1, 1, -1, 1, -1, -1, 1, 1, -1, 1, -1, -1, 1, -1, -1, 1, -1, 1, 1, -1, 1, 1, 1, 1, 1, -1, -1, -1, -1, 1, 1, -1]\n"
          ]
        },
        {
          "output_type": "stream",
          "name": "stderr",
          "text": [
            "\n",
            "Simulating N=60, S=1.00, C=200fF:  96%|█████████▌| 48/50 [00:19<00:00,  3.60it/s]\u001b[A"
          ]
        },
        {
          "output_type": "stream",
          "name": "stdout",
          "text": [
            "Partition: ({1, 3, 9, 12, 13, 14, 18, 22, 24, 26, 27, 30, 32, 33, 35, 37, 38, 41, 43, 44, 46, 47, 50, 55, 57}, {0, 2, 4, 5, 6, 7, 8, 10, 11, 15, 16, 17, 19, 20, 21, 23, 25, 28, 29, 31, 34, 36, 39, 40, 42, 45, 48, 49, 51, 52, 53, 54, 56, 58, 59})\n",
            "[-1, 1, -1, 1, -1, -1, -1, -1, -1, 1, -1, -1, 1, 1, 1, -1, -1, -1, 1, -1, -1, -1, 1, -1, 1, -1, 1, 1, -1, -1, 1, -1, 1, 1, -1, 1, -1, 1, 1, -1, -1, 1, -1, 1, 1, -1, 1, 1, -1, -1, 1, -1, -1, -1, -1, 1, -1, 1, -1, -1]\n"
          ]
        },
        {
          "output_type": "stream",
          "name": "stderr",
          "text": [
            "\n",
            "Simulating N=60, S=1.00, C=200fF:  98%|█████████▊| 49/50 [00:20<00:00,  3.59it/s]\u001b[A"
          ]
        },
        {
          "output_type": "stream",
          "name": "stdout",
          "text": [
            "Partition: ({1, 3, 5, 7, 9, 11, 13, 15, 17, 19, 21, 23, 25, 27, 29, 31, 33, 35, 37, 39, 41, 43, 45, 47, 53, 54, 56, 57, 58, 59}, {0, 2, 4, 6, 8, 10, 12, 14, 16, 18, 20, 22, 24, 26, 28, 30, 32, 34, 36, 38, 40, 42, 44, 46, 48, 49, 50, 51, 52, 55})\n",
            "[-1, 1, -1, 1, -1, 1, -1, 1, -1, 1, -1, 1, -1, 1, -1, 1, -1, 1, -1, 1, -1, 1, -1, 1, -1, 1, -1, 1, -1, 1, -1, 1, -1, 1, -1, 1, -1, 1, -1, 1, -1, 1, -1, 1, -1, 1, -1, 1, -1, -1, -1, -1, -1, 1, 1, -1, 1, 1, 1, 1]\n"
          ]
        },
        {
          "output_type": "stream",
          "name": "stderr",
          "text": [
            "\n",
            "Simulating N=60, S=1.00, C=200fF: 100%|██████████| 50/50 [00:20<00:00,  3.55it/s]\u001b[A\n",
            "Capacitance Sweep: 100%|██████████| 1/1 [00:23<00:00, 23.37s/it]"
          ]
        },
        {
          "output_type": "stream",
          "name": "stdout",
          "text": [
            "Partition: ({0, 2, 4, 6, 8, 10, 12, 14, 16, 18, 20, 22, 25, 28, 30, 33, 34, 36, 38, 39, 42, 44, 46, 48, 49, 50, 54, 55, 57, 59}, {1, 3, 5, 7, 9, 11, 13, 15, 17, 19, 21, 23, 24, 26, 27, 29, 31, 32, 35, 37, 40, 41, 43, 45, 47, 51, 52, 53, 56, 58})\n",
            "[1, -1, 1, -1, 1, -1, 1, -1, 1, -1, 1, -1, 1, -1, 1, -1, 1, -1, 1, -1, 1, -1, 1, -1, -1, 1, -1, -1, 1, -1, 1, -1, -1, 1, 1, -1, 1, -1, 1, 1, -1, -1, 1, -1, 1, -1, 1, -1, 1, 1, 1, -1, -1, -1, 1, 1, -1, 1, -1, 1]\n"
          ]
        },
        {
          "output_type": "stream",
          "name": "stderr",
          "text": [
            "\n"
          ]
        },
        {
          "output_type": "execute_result",
          "data": {
            "text/plain": [
              "{'success_rates': {'fc': array([[[0.98]],\n",
              "  \n",
              "         [[0.18]]])},\n",
              " 'convergence_times': {'fc': array([[[1.21950909e-08]],\n",
              "  \n",
              "         [[2.11009535e-09]]])},\n",
              " 'energies': {'fc': array([[[3.24452050e-12]],\n",
              "  \n",
              "         [[3.40570826e-12]]])},\n",
              " 'h_ratios': {'fc': array([[[0.73      ]],\n",
              "  \n",
              "         [[1.09795761]]])},\n",
              " 'broken_chain_probs': {},\n",
              " 'convergence_times_std': {'fc': array([[[2.31539155e-09]],\n",
              "  \n",
              "         [[4.81839189e-10]]])},\n",
              " 'energies_std': {'fc': array([[[6.18873356e-13]],\n",
              "  \n",
              "         [[8.35238176e-13]]])},\n",
              " 'h_ratios_std': {'fc': array([[[0.20787282]],\n",
              "  \n",
              "         [[0.08484329]]])},\n",
              " 'capacitance_values': array([200]),\n",
              " 'node_sizes': [10, 60],\n",
              " 'sparsity_values': [1]}"
            ]
          },
          "metadata": {},
          "execution_count": 12
        }
      ],
      "source": [
        "run_simulation_sweep(generated_cases, valid_combos, node_sizes_sweep, sparsity_values_sweep, capacitance_values_sweep, [\"fc\"])"
      ]
    },
    {
      "cell_type": "code",
      "source": [
        "files.download(\"/content/sweep_results_latticecap10.pkl\")"
      ],
      "metadata": {
        "colab": {
          "base_uri": "https://localhost:8080/",
          "height": 17
        },
        "id": "iukLZaecSZJO",
        "outputId": "e14f41b9-b009-43bd-f5c3-afdba26b63fd"
      },
      "execution_count": null,
      "outputs": [
        {
          "output_type": "display_data",
          "data": {
            "text/plain": [
              "<IPython.core.display.Javascript object>"
            ],
            "application/javascript": [
              "\n",
              "    async function download(id, filename, size) {\n",
              "      if (!google.colab.kernel.accessAllowed) {\n",
              "        return;\n",
              "      }\n",
              "      const div = document.createElement('div');\n",
              "      const label = document.createElement('label');\n",
              "      label.textContent = `Downloading \"${filename}\": `;\n",
              "      div.appendChild(label);\n",
              "      const progress = document.createElement('progress');\n",
              "      progress.max = size;\n",
              "      div.appendChild(progress);\n",
              "      document.body.appendChild(div);\n",
              "\n",
              "      const buffers = [];\n",
              "      let downloaded = 0;\n",
              "\n",
              "      const channel = await google.colab.kernel.comms.open(id);\n",
              "      // Send a message to notify the kernel that we're ready.\n",
              "      channel.send({})\n",
              "\n",
              "      for await (const message of channel.messages) {\n",
              "        // Send a message to notify the kernel that we're ready.\n",
              "        channel.send({})\n",
              "        if (message.buffers) {\n",
              "          for (const buffer of message.buffers) {\n",
              "            buffers.push(buffer);\n",
              "            downloaded += buffer.byteLength;\n",
              "            progress.value = downloaded;\n",
              "          }\n",
              "        }\n",
              "      }\n",
              "      const blob = new Blob(buffers, {type: 'application/binary'});\n",
              "      const a = document.createElement('a');\n",
              "      a.href = window.URL.createObjectURL(blob);\n",
              "      a.download = filename;\n",
              "      div.appendChild(a);\n",
              "      a.click();\n",
              "      div.remove();\n",
              "    }\n",
              "  "
            ]
          },
          "metadata": {}
        },
        {
          "output_type": "display_data",
          "data": {
            "text/plain": [
              "<IPython.core.display.Javascript object>"
            ],
            "application/javascript": [
              "download(\"download_d32eed22-076e-4a8f-97eb-7bec4b6cc2cc\", \"sweep_results_latticecap10.pkl\", 27759)"
            ]
          },
          "metadata": {}
        }
      ]
    },
    {
      "cell_type": "code",
      "execution_count": null,
      "metadata": {
        "colab": {
          "base_uri": "https://localhost:8080/",
          "height": 1000
        },
        "id": "TpCrL8PKtyLF",
        "outputId": "9285ab1e-445b-4c21-f94f-e664e2bce7dd"
      },
      "outputs": [
        {
          "name": "stdout",
          "output_type": "stream",
          "text": [
            "  adding: content/saved_cases/ (stored 0%)\n",
            "  adding: content/saved_cases/N20_S0.80.txt (deflated 87%)\n",
            "  adding: content/saved_cases/N50_S0.50.txt (deflated 85%)\n",
            "  adding: content/saved_cases/N10_S0.40.txt (deflated 89%)\n",
            "  adding: content/saved_cases/N10_S0.70.txt (deflated 89%)\n",
            "  adding: content/saved_cases/N50_S1.00.txt (deflated 85%)\n",
            "  adding: content/saved_cases/N50_S0.80.txt (deflated 85%)\n",
            "  adding: content/saved_cases/N20_S0.50.txt (deflated 87%)\n",
            "  adding: content/saved_cases/N50_S0.90.txt (deflated 85%)\n",
            "  adding: content/saved_cases/N10_S0.10.txt (deflated 89%)\n",
            "  adding: content/saved_cases/N20_S0.20.txt (deflated 87%)\n",
            "  adding: content/saved_cases/N30_S0.30.txt (deflated 86%)\n",
            "  adding: content/saved_cases/N40_S0.20.txt (deflated 85%)\n",
            "  adding: content/saved_cases/N60_S0.10.txt (deflated 83%)\n",
            "  adding: content/saved_cases/N50_S0.40.txt (deflated 85%)\n",
            "  adding: content/saved_cases/N30_S1.00.txt (deflated 86%)\n",
            "  adding: content/saved_cases/N40_S0.70.txt (deflated 85%)\n",
            "  adding: content/saved_cases/N50_S0.70.txt (deflated 85%)\n",
            "  adding: content/saved_cases/N50_S0.10.txt (deflated 85%)\n",
            "  adding: content/saved_cases/N40_S0.60.txt (deflated 85%)\n",
            "  adding: content/saved_cases/N60_S1.00.txt (deflated 83%)\n",
            "  adding: content/saved_cases/N20_S0.90.txt (deflated 87%)\n",
            "  adding: content/saved_cases/N50_S0.30.txt (deflated 85%)\n",
            "  adding: content/saved_cases/N60_S0.60.txt (deflated 83%)\n",
            "  adding: content/saved_cases/N20_S0.60.txt (deflated 87%)\n",
            "  adding: content/saved_cases/N10_S0.80.txt (deflated 89%)\n",
            "  adding: content/saved_cases/N10_S0.30.txt (deflated 89%)\n",
            "  adding: content/saved_cases/N30_S0.50.txt (deflated 85%)\n",
            "  adding: content/saved_cases/N10_S0.60.txt (deflated 89%)\n",
            "  adding: content/saved_cases/N10_S1.00.txt (deflated 91%)\n",
            "  adding: content/saved_cases/N60_S0.70.txt (deflated 83%)\n",
            "  adding: content/saved_cases/N40_S0.80.txt (deflated 85%)\n",
            "  adding: content/saved_cases/N60_S0.50.txt (deflated 83%)\n",
            "  adding: content/saved_cases/N10_S0.20.txt (deflated 89%)\n",
            "  adding: content/saved_cases/N40_S0.90.txt (deflated 85%)\n",
            "  adding: content/saved_cases/N30_S0.80.txt (deflated 86%)\n",
            "  adding: content/saved_cases/N40_S0.40.txt (deflated 85%)\n",
            "  adding: content/saved_cases/N50_S0.60.txt (deflated 85%)\n",
            "  adding: content/saved_cases/N10_S0.90.txt (deflated 90%)\n",
            "  adding: content/saved_cases/N20_S0.40.txt (deflated 87%)\n",
            "  adding: content/saved_cases/N50_S0.20.txt (deflated 85%)\n",
            "  adding: content/saved_cases/N20_S0.10.txt (deflated 87%)\n",
            "  adding: content/saved_cases/N60_S0.30.txt (deflated 83%)\n",
            "  adding: content/saved_cases/N40_S0.30.txt (deflated 85%)\n",
            "  adding: content/saved_cases/N40_S0.50.txt (deflated 85%)\n",
            "  adding: content/saved_cases/N40_S1.00.txt (deflated 85%)\n",
            "  adding: content/saved_cases/N30_S0.60.txt (deflated 86%)\n",
            "  adding: content/saved_cases/N30_S0.20.txt (deflated 85%)\n",
            "  adding: content/saved_cases/N30_S0.40.txt (deflated 86%)\n",
            "  adding: content/saved_cases/N60_S0.90.txt (deflated 83%)\n",
            "  adding: content/saved_cases/N10_S0.50.txt (deflated 89%)\n",
            "  adding: content/saved_cases/N60_S0.80.txt (deflated 83%)\n",
            "  adding: content/saved_cases/N20_S0.30.txt (deflated 87%)\n",
            "  adding: content/saved_cases/N40_S0.10.txt (deflated 85%)\n",
            "  adding: content/saved_cases/N20_S1.00.txt (deflated 87%)\n",
            "  adding: content/saved_cases/N30_S0.90.txt (deflated 86%)\n",
            "  adding: content/saved_cases/N30_S0.10.txt (deflated 86%)\n",
            "  adding: content/saved_cases/N30_S0.70.txt (deflated 86%)\n",
            "  adding: content/saved_cases/N60_S0.40.txt (deflated 83%)\n",
            "  adding: content/saved_cases/N20_S0.70.txt (deflated 87%)\n",
            "  adding: content/saved_cases/N60_S0.20.txt (deflated 83%)\n"
          ]
        },
        {
          "data": {
            "application/javascript": [
              "\n",
              "    async function download(id, filename, size) {\n",
              "      if (!google.colab.kernel.accessAllowed) {\n",
              "        return;\n",
              "      }\n",
              "      const div = document.createElement('div');\n",
              "      const label = document.createElement('label');\n",
              "      label.textContent = `Downloading \"${filename}\": `;\n",
              "      div.appendChild(label);\n",
              "      const progress = document.createElement('progress');\n",
              "      progress.max = size;\n",
              "      div.appendChild(progress);\n",
              "      document.body.appendChild(div);\n",
              "\n",
              "      const buffers = [];\n",
              "      let downloaded = 0;\n",
              "\n",
              "      const channel = await google.colab.kernel.comms.open(id);\n",
              "      // Send a message to notify the kernel that we're ready.\n",
              "      channel.send({})\n",
              "\n",
              "      for await (const message of channel.messages) {\n",
              "        // Send a message to notify the kernel that we're ready.\n",
              "        channel.send({})\n",
              "        if (message.buffers) {\n",
              "          for (const buffer of message.buffers) {\n",
              "            buffers.push(buffer);\n",
              "            downloaded += buffer.byteLength;\n",
              "            progress.value = downloaded;\n",
              "          }\n",
              "        }\n",
              "      }\n",
              "      const blob = new Blob(buffers, {type: 'application/binary'});\n",
              "      const a = document.createElement('a');\n",
              "      a.href = window.URL.createObjectURL(blob);\n",
              "      a.download = filename;\n",
              "      div.appendChild(a);\n",
              "      a.click();\n",
              "      div.remove();\n",
              "    }\n",
              "  "
            ],
            "text/plain": [
              "<IPython.core.display.Javascript object>"
            ]
          },
          "metadata": {},
          "output_type": "display_data"
        },
        {
          "data": {
            "application/javascript": [
              "download(\"download_458ecac3-7565-48f7-9117-0f00f219bfa8\", \"saved_cases.zip\", 501907)"
            ],
            "text/plain": [
              "<IPython.core.display.Javascript object>"
            ]
          },
          "metadata": {},
          "output_type": "display_data"
        }
      ],
      "source": [
        "!zip -r /content/saved_cases.zip /content/saved_cases\n",
        "files.download(\"/content/saved_cases.zip\")"
      ]
    },
    {
      "cell_type": "code",
      "execution_count": null,
      "metadata": {
        "id": "oLnLbnuWOoJJ"
      },
      "outputs": [],
      "source": [
        "import pickle\n",
        "import numpy as np\n",
        "import matplotlib.pyplot as plt\n",
        "\n",
        "def plot_metric_vs_sparsity(pickle_files, configs, metric, ylabel, ylim=None):\n",
        "    \"\"\"\n",
        "    For each capacitance value, plot a metric vs sparsity for each N.\n",
        "    One plot per capacitance, with a subplot for each config.\n",
        "    \"\"\"\n",
        "    # Load all data\n",
        "    data = {}\n",
        "    for cfg in configs:\n",
        "        with open(pickle_files[cfg], 'rb') as f:\n",
        "            data[cfg] = pickle.load(f)\n",
        "\n",
        "    # Common axis values\n",
        "    node_sizes = data[configs[0]]['node_sizes']\n",
        "    sparsity_values = data[configs[0]]['sparsity_values']\n",
        "    cap_values = data[configs[0]]['capacitance_values']\n",
        "    convergence_times = data[configs[0]]['convergence_times']\n",
        "    # For each capacitance value, generate a figure\n",
        "    for cap_idx, cap in enumerate(cap_values):\n",
        "        fig, axes = plt.subplots(1, len(configs), figsize=(6 * len(configs), 5), sharey=True)\n",
        "        if len(configs) == 1:\n",
        "            axes = [axes]  # Ensure iterable if only one config\n",
        "\n",
        "        fig.suptitle(f\"{ylabel} vs r-Ratio (Capacitance = {cap} fF)\", fontsize=14)\n",
        "\n",
        "        for ax, cfg in zip(axes, configs):\n",
        "            if metric not in data[cfg]:\n",
        "                ax.set_visible(False)\n",
        "                continue\n",
        "            for n_idx, N in enumerate(node_sizes):\n",
        "                y = data[cfg][metric][cfg][n_idx, :, cap_idx]\n",
        "                ax.plot(sparsity_values, y, marker='o', label=f\"N={N}\")\n",
        "\n",
        "            ax.set_title(cfg)\n",
        "            ax.set_xlabel(\"gamma\")\n",
        "            if ylim:\n",
        "                ax.set_ylim(*ylim)\n",
        "            ax.grid(True, linestyle='--', alpha=0.6)\n",
        "            if ax == axes[0]:\n",
        "                ax.set_ylabel(ylabel)\n",
        "            ax.legend()\n",
        "\n",
        "        plt.tight_layout(rect=[0, 0, 1, 0.95])\n",
        "        plt.show()\n",
        "\n",
        "\n",
        "# Example usage\n",
        "pickle_files = {\n",
        "    'fc': \"sweep_results_fc.pkl\",\n",
        "    'lattice': \"sweep_results_lattice.pkl\",\n",
        "    'latticecap2': \"sweep_results_latticecap2.pkl\",\n",
        "    'latticecap5': \"sweep_results_latticecap5.pkl\",\n",
        "    'latticecap10': \"sweep_results_latticecap10.pkl\"\n",
        "}\n",
        "\n",
        "configs_all = ['fc', 'lattice', 'latticecap2', 'latticecap5', 'latticecap10']\n",
        "configs_latticecap = ['latticecap2', 'latticecap5', 'latticecap10']\n",
        "\n",
        "# Plot success rates\n",
        "plot_metric_vs_sparsity(\n",
        "    pickle_files, configs_all,\n",
        "    metric='success_rates', ylabel='Success Rate', ylim=(0, 1.05)\n",
        ")\n",
        "\n",
        "# Plot energies\n",
        "plot_metric_vs_sparsity(\n",
        "    pickle_files, configs_all,\n",
        "    metric='energies', ylabel='Energy (J)'\n",
        ")\n",
        "\n",
        "\n",
        "\n",
        "# Plot probability of broken chains\n",
        "plot_metric_vs_sparsity(\n",
        "    pickle_files, configs_latticecap,\n",
        "    metric='broken_chain_probs', ylabel='Broken Chain Probability', ylim=(0, 1.05)\n",
        ")\n",
        "\n",
        "# Plot probability of broken chains\n",
        "plot_metric_vs_sparsity(\n",
        "    pickle_files, configs_latticecap,\n",
        "    metric='convergence_times', ylabel='Convergence Times', ylim=(0, 1.05)\n",
        ")"
      ]
    }
  ],
  "metadata": {
    "colab": {
      "collapsed_sections": [
        "lxjnsCs9ot-Y"
      ],
      "provenance": [],
      "authorship_tag": "ABX9TyNmUV9Be9R3FvFY3lI7X/sT",
      "include_colab_link": true
    },
    "kernelspec": {
      "display_name": "Python 3",
      "name": "python3"
    },
    "language_info": {
      "name": "python"
    }
  },
  "nbformat": 4,
  "nbformat_minor": 0
}